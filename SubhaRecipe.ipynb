{
 "cells": [
  {
   "cell_type": "markdown",
   "id": "fa29e09b",
   "metadata": {
    "id": "fa29e09b"
   },
   "source": [
    "# <font color = Black >  Recipe Recommender Assignment EDA </font>\n",
    "### <font color = Black > -By Subha Meenakshy Chandrasekharan </font>"
   ]
  },
  {
   "cell_type": "markdown",
   "id": "62964762",
   "metadata": {
    "id": "62964762"
   },
   "source": [
    "## <font color = Black >  Importing Libraries  </font>"
   ]
  },
  {
   "cell_type": "code",
   "execution_count": 1,
   "id": "cb499c30",
   "metadata": {
    "colab": {
     "referenced_widgets": [
      "b2b7b452e8ce4db39b860a6ff58f71ce",
      ""
     ]
    },
    "execution": {
     "iopub.execute_input": "2023-01-07T18:11:35.363252Z",
     "iopub.status.busy": "2023-01-07T18:11:35.362962Z",
     "iopub.status.idle": "2023-01-07T18:12:17.688313Z",
     "shell.execute_reply": "2023-01-07T18:12:17.687328Z",
     "shell.execute_reply.started": "2023-01-07T18:11:35.363219Z"
    },
    "id": "cb499c30",
    "outputId": "6ed1ba2c-be8d-4f00-c56f-5232baed08e0"
   },
   "outputs": [
    {
     "data": {
      "application/vnd.jupyter.widget-view+json": {
       "model_id": "9f68a866d92947afa7d01ed57c8b9f7f",
       "version_major": 2,
       "version_minor": 0
      },
      "text/plain": [
       "VBox()"
      ]
     },
     "metadata": {},
     "output_type": "display_data"
    },
    {
     "name": "stdout",
     "output_type": "stream",
     "text": [
      "Starting Spark application\n"
     ]
    },
    {
     "data": {
      "text/html": [
       "<table>\n",
       "<tr><th>ID</th><th>YARN Application ID</th><th>Kind</th><th>State</th><th>Spark UI</th><th>Driver log</th><th>User</th><th>Current session?</th></tr><tr><td>1</td><td>application_1678790214970_0002</td><td>pyspark</td><td>idle</td><td><a target=\"_blank\" href=\"http://ip-172-31-30-209.ec2.internal:20888/proxy/application_1678790214970_0002/\" class=\"emr-proxy-link\" emr-resource=\"j-2QX3XP3A3P3ZE\n",
       "\" application-id=\"application_1678790214970_0002\">Link</a></td><td><a target=\"_blank\" href=\"http://ip-172-31-30-209.ec2.internal:8042/node/containerlogs/container_1678790214970_0002_01_000001/livy\" >Link</a></td><td>None</td><td>✔</td></tr></table>"
      ],
      "text/plain": [
       "<IPython.core.display.HTML object>"
      ]
     },
     "metadata": {},
     "output_type": "display_data"
    },
    {
     "data": {
      "application/vnd.jupyter.widget-view+json": {
       "model_id": "",
       "version_major": 2,
       "version_minor": 0
      },
      "text/plain": [
       "FloatProgress(value=0.0, bar_style='info', description='Progress:', layout=Layout(height='25px', width='50%'),…"
      ]
     },
     "metadata": {},
     "output_type": "display_data"
    },
    {
     "name": "stdout",
     "output_type": "stream",
     "text": [
      "SparkSession available as 'spark_session'.\n"
     ]
    },
    {
     "data": {
      "application/vnd.jupyter.widget-view+json": {
       "model_id": "",
       "version_major": 2,
       "version_minor": 0
      },
      "text/plain": [
       "FloatProgress(value=0.0, bar_style='info', description='Progress:', layout=Layout(height='25px', width='50%'),…"
      ]
     },
     "metadata": {},
     "output_type": "display_data"
    }
   ],
   "source": [
    "from pyspark.sql import SparkSession"
   ]
  },
  {
   "cell_type": "code",
   "execution_count": 2,
   "id": "41232cf1",
   "metadata": {
    "colab": {
     "referenced_widgets": [
      "1054a1975eeb4ff4b03afb61dc0c5154",
      ""
     ]
    },
    "execution": {
     "iopub.execute_input": "2023-01-07T18:12:29.753134Z",
     "iopub.status.busy": "2023-01-07T18:12:29.752666Z",
     "iopub.status.idle": "2023-01-07T18:12:31.763574Z",
     "shell.execute_reply": "2023-01-07T18:12:31.762584Z",
     "shell.execute_reply.started": "2023-01-07T18:12:29.753081Z"
    },
    "id": "41232cf1",
    "outputId": "3bb09984-c328-4acb-f777-ded84f8be681"
   },
   "outputs": [
    {
     "data": {
      "application/vnd.jupyter.widget-view+json": {
       "model_id": "8bc11115d6ca4affb299b4f9983b3f49",
       "version_major": 2,
       "version_minor": 0
      },
      "text/plain": [
       "VBox()"
      ]
     },
     "metadata": {},
     "output_type": "display_data"
    },
    {
     "data": {
      "application/vnd.jupyter.widget-view+json": {
       "model_id": "",
       "version_major": 2,
       "version_minor": 0
      },
      "text/plain": [
       "FloatProgress(value=0.0, bar_style='info', description='Progress:', layout=Layout(height='25px', width='50%'),…"
      ]
     },
     "metadata": {},
     "output_type": "display_data"
    }
   ],
   "source": [
    "from pyspark.sql import SparkSession\n",
    "spark_session = SparkSession.builder.appName(\"RecipeEDA\").getOrCreate()"
   ]
  },
  {
   "cell_type": "code",
   "execution_count": 3,
   "id": "883ce48d",
   "metadata": {
    "colab": {
     "referenced_widgets": [
      "ba650a381bab49afb47323f6ccab7b37",
      ""
     ]
    },
    "execution": {
     "iopub.execute_input": "2023-01-07T18:12:33.935019Z",
     "iopub.status.busy": "2023-01-07T18:12:33.934731Z",
     "iopub.status.idle": "2023-01-07T18:12:34.040826Z",
     "shell.execute_reply": "2023-01-07T18:12:34.039584Z",
     "shell.execute_reply.started": "2023-01-07T18:12:33.934987Z"
    },
    "id": "883ce48d",
    "outputId": "e5fabd66-3a18-45e7-c623-2b5f4a522238"
   },
   "outputs": [
    {
     "data": {
      "application/vnd.jupyter.widget-view+json": {
       "model_id": "584a58dcfbb347d08d12a579e65e4911",
       "version_major": 2,
       "version_minor": 0
      },
      "text/plain": [
       "VBox()"
      ]
     },
     "metadata": {},
     "output_type": "display_data"
    },
    {
     "data": {
      "application/vnd.jupyter.widget-view+json": {
       "model_id": "",
       "version_major": 2,
       "version_minor": 0
      },
      "text/plain": [
       "FloatProgress(value=0.0, bar_style='info', description='Progress:', layout=Layout(height='25px', width='50%'),…"
      ]
     },
     "metadata": {},
     "output_type": "display_data"
    },
    {
     "name": "stdout",
     "output_type": "stream",
     "text": [
      "<pyspark.sql.session.SparkSession object at 0x7f157d63dd90>"
     ]
    }
   ],
   "source": [
    "spark_session"
   ]
  },
  {
   "cell_type": "code",
   "execution_count": 4,
   "id": "7c6f64c8",
   "metadata": {
    "colab": {
     "referenced_widgets": [
      "689e24bb27ff4630bcd08eb744c42c8b",
      ""
     ]
    },
    "execution": {
     "iopub.execute_input": "2023-01-07T18:12:44.160012Z",
     "iopub.status.busy": "2023-01-07T18:12:44.159528Z",
     "iopub.status.idle": "2023-01-07T18:12:44.294494Z",
     "shell.execute_reply": "2023-01-07T18:12:44.293477Z",
     "shell.execute_reply.started": "2023-01-07T18:12:44.159955Z"
    },
    "id": "7c6f64c8",
    "outputId": "b034b599-7463-42dd-a7fb-e21ada3cd440"
   },
   "outputs": [
    {
     "data": {
      "application/vnd.jupyter.widget-view+json": {
       "model_id": "4280d18f42104c90b8959f051c63fe8d",
       "version_major": 2,
       "version_minor": 0
      },
      "text/plain": [
       "VBox()"
      ]
     },
     "metadata": {},
     "output_type": "display_data"
    },
    {
     "data": {
      "application/vnd.jupyter.widget-view+json": {
       "model_id": "",
       "version_major": 2,
       "version_minor": 0
      },
      "text/plain": [
       "FloatProgress(value=0.0, bar_style='info', description='Progress:', layout=Layout(height='25px', width='50%'),…"
      ]
     },
     "metadata": {},
     "output_type": "display_data"
    }
   ],
   "source": [
    "from pyspark.sql import functions as func\n",
    "\n",
    "# Import for typecasting columns\n",
    "from pyspark.sql.types import IntegerType,BooleanType,DateType,FloatType,StringType\n",
    "from pyspark.sql.types import ArrayType"
   ]
  },
  {
   "cell_type": "markdown",
   "id": "8861feb6",
   "metadata": {
    "id": "8861feb6"
   },
   "source": [
    "## <font color = blue >  Task 01: Data Loading  </font>"
   ]
  },
  {
   "cell_type": "markdown",
   "id": "43cd8743",
   "metadata": {
    "id": "43cd8743"
   },
   "source": [
    "### Task 01 Instructions: Load Recipe Dataset "
   ]
  },
  {
   "cell_type": "code",
   "execution_count": 5,
   "id": "3a075f32",
   "metadata": {
    "colab": {
     "referenced_widgets": [
      "41bb4f43ce5b4d3a9c0ee8d8a890db98",
      ""
     ]
    },
    "execution": {
     "iopub.execute_input": "2023-01-07T18:12:46.697506Z",
     "iopub.status.busy": "2023-01-07T18:12:46.697036Z",
     "iopub.status.idle": "2023-01-07T18:13:06.255990Z",
     "shell.execute_reply": "2023-01-07T18:13:06.255179Z",
     "shell.execute_reply.started": "2023-01-07T18:12:46.697453Z"
    },
    "id": "3a075f32",
    "outputId": "420fd6ec-2000-4053-ae2b-6b8a95507e66"
   },
   "outputs": [
    {
     "data": {
      "application/vnd.jupyter.widget-view+json": {
       "model_id": "b216ecf35fbc4604a111e9647a4f4e1c",
       "version_major": 2,
       "version_minor": 0
      },
      "text/plain": [
       "VBox()"
      ]
     },
     "metadata": {},
     "output_type": "display_data"
    },
    {
     "data": {
      "application/vnd.jupyter.widget-view+json": {
       "model_id": "",
       "version_major": 2,
       "version_minor": 0
      },
      "text/plain": [
       "FloatProgress(value=0.0, bar_style='info', description='Progress:', layout=Layout(height='25px', width='50%'),…"
      ]
     },
     "metadata": {},
     "output_type": "display_data"
    }
   ],
   "source": [
    "# Task 01 Cell 1 of 1\n",
    "\n",
    "recipe_raw_df = (spark_session.read.csv(\"s3a://raw-recipes-clean-upgrad/RAW_recipes_cleaned.csv\", inferSchema = True, header = True))\n"
   ]
  },
  {
   "cell_type": "code",
   "execution_count": 6,
   "id": "df1005ad",
   "metadata": {
    "colab": {
     "referenced_widgets": [
      "5519bd451249441fa8a177269ff103ef",
      ""
     ]
    },
    "execution": {
     "iopub.execute_input": "2023-01-07T18:13:08.448092Z",
     "iopub.status.busy": "2023-01-07T18:13:08.447848Z",
     "iopub.status.idle": "2023-01-07T18:13:09.259031Z",
     "shell.execute_reply": "2023-01-07T18:13:09.258032Z",
     "shell.execute_reply.started": "2023-01-07T18:13:08.448061Z"
    },
    "id": "df1005ad",
    "outputId": "9586c30f-6fc4-43c7-aa8a-2f18031a86f0"
   },
   "outputs": [
    {
     "data": {
      "application/vnd.jupyter.widget-view+json": {
       "model_id": "168402e84aab460da35d99c340a5dd0c",
       "version_major": 2,
       "version_minor": 0
      },
      "text/plain": [
       "VBox()"
      ]
     },
     "metadata": {},
     "output_type": "display_data"
    },
    {
     "data": {
      "application/vnd.jupyter.widget-view+json": {
       "model_id": "",
       "version_major": 2,
       "version_minor": 0
      },
      "text/plain": [
       "FloatProgress(value=0.0, bar_style='info', description='Progress:', layout=Layout(height='25px', width='50%'),…"
      ]
     },
     "metadata": {},
     "output_type": "display_data"
    },
    {
     "name": "stdout",
     "output_type": "stream",
     "text": [
      "+--------------------+------+-------+--------------+----------+--------------------+--------------------+-------+--------------------+--------------------+--------------------+-------------+\n",
      "|                name|    id|minutes|contributor_id| submitted|                tags|           nutrition|n_steps|               steps|         description|         ingredients|n_ingredients|\n",
      "+--------------------+------+-------+--------------+----------+--------------------+--------------------+-------+--------------------+--------------------+--------------------+-------------+\n",
      "|arriba   baked wi...|137739|     55|         47892|2005-09-16|['60-minutes-or-l...|[51.5, 0.0, 13.0,...|     11|['make a choice a...|autumn is my favo...|['winter squash',...|            7|\n",
      "|a bit different  ...| 31490|     30|         26278|2002-06-17|['30-minutes-or-l...|[173.4, 18.0, 0.0...|      9|['preheat oven to...|this recipe calls...|['prepared pizza ...|            6|\n",
      "|all in the kitche...|112140|    130|        196586|2005-02-25|['time-to-make', ...|[269.8, 22.0, 32....|      6|['brown ground be...|this modified ver...|['ground beef', '...|           13|\n",
      "|  alouette  potatoes| 59389|     45|         68585|2003-04-14|['60-minutes-or-l...|[368.1, 17.0, 10....|     11|['place potatoes ...|this is a super e...|['spreadable chee...|           11|\n",
      "|amish  tomato ket...| 44061|    190|         41706|2002-10-25|['weeknight', 'ti...|[352.9, 1.0, 337....|      5|['mix all ingredi...|my dh's amish mot...|['tomato juice', ...|            8|\n",
      "+--------------------+------+-------+--------------+----------+--------------------+--------------------+-------+--------------------+--------------------+--------------------+-------------+\n",
      "only showing top 5 rows"
     ]
    }
   ],
   "source": [
    "recipe_raw_df.show(5)"
   ]
  },
  {
   "cell_type": "code",
   "execution_count": 7,
   "id": "00a7bd28",
   "metadata": {
    "colab": {
     "referenced_widgets": [
      "714de54a07344750a948690fc29aa24f",
      ""
     ]
    },
    "execution": {
     "iopub.execute_input": "2023-01-07T18:13:11.933247Z",
     "iopub.status.busy": "2023-01-07T18:13:11.932740Z",
     "iopub.status.idle": "2023-01-07T18:13:12.056504Z",
     "shell.execute_reply": "2023-01-07T18:13:12.055614Z",
     "shell.execute_reply.started": "2023-01-07T18:13:11.933196Z"
    },
    "id": "00a7bd28",
    "outputId": "68419bb6-51c7-41fa-84b6-deb0df28847d"
   },
   "outputs": [
    {
     "data": {
      "application/vnd.jupyter.widget-view+json": {
       "model_id": "ca58888ce9d647adba8198b7ab759607",
       "version_major": 2,
       "version_minor": 0
      },
      "text/plain": [
       "VBox()"
      ]
     },
     "metadata": {},
     "output_type": "display_data"
    },
    {
     "data": {
      "application/vnd.jupyter.widget-view+json": {
       "model_id": "",
       "version_major": 2,
       "version_minor": 0
      },
      "text/plain": [
       "FloatProgress(value=0.0, bar_style='info', description='Progress:', layout=Layout(height='25px', width='50%'),…"
      ]
     },
     "metadata": {},
     "output_type": "display_data"
    },
    {
     "name": "stdout",
     "output_type": "stream",
     "text": [
      "root\n",
      " |-- name: string (nullable = true)\n",
      " |-- id: integer (nullable = true)\n",
      " |-- minutes: integer (nullable = true)\n",
      " |-- contributor_id: integer (nullable = true)\n",
      " |-- submitted: string (nullable = true)\n",
      " |-- tags: string (nullable = true)\n",
      " |-- nutrition: string (nullable = true)\n",
      " |-- n_steps: integer (nullable = true)\n",
      " |-- steps: string (nullable = true)\n",
      " |-- description: string (nullable = true)\n",
      " |-- ingredients: string (nullable = true)\n",
      " |-- n_ingredients: integer (nullable = true)"
     ]
    }
   ],
   "source": [
    "recipe_raw_df.printSchema()"
   ]
  },
  {
   "cell_type": "markdown",
   "id": "833638a6",
   "metadata": {
    "id": "833638a6"
   },
   "source": [
    "### Validation for Task 01"
   ]
  },
  {
   "cell_type": "code",
   "execution_count": 8,
   "id": "43cc821e",
   "metadata": {
    "colab": {
     "referenced_widgets": [
      "ad2fb46e392f4ca7aa0b4804dd77160c",
      ""
     ]
    },
    "execution": {
     "iopub.execute_input": "2023-01-07T18:13:14.567773Z",
     "iopub.status.busy": "2023-01-07T18:13:14.567464Z",
     "iopub.status.idle": "2023-01-07T18:13:19.978718Z",
     "shell.execute_reply": "2023-01-07T18:13:19.977695Z",
     "shell.execute_reply.started": "2023-01-07T18:13:14.567741Z"
    },
    "id": "43cc821e",
    "outputId": "46b85425-52ac-48de-dbe1-2249bfaade41"
   },
   "outputs": [
    {
     "data": {
      "application/vnd.jupyter.widget-view+json": {
       "model_id": "a59b7cf4850648098fd7db6845b860e9",
       "version_major": 2,
       "version_minor": 0
      },
      "text/plain": [
       "VBox()"
      ]
     },
     "metadata": {},
     "output_type": "display_data"
    },
    {
     "data": {
      "application/vnd.jupyter.widget-view+json": {
       "model_id": "",
       "version_major": 2,
       "version_minor": 0
      },
      "text/plain": [
       "FloatProgress(value=0.0, bar_style='info', description='Progress:', layout=Layout(height='25px', width='50%'),…"
      ]
     },
     "metadata": {},
     "output_type": "display_data"
    }
   ],
   "source": [
    "# Code check cells\n",
    "# Do not edit cells with assert commands\n",
    "# If an error is shown after running this cell, please recheck your code.  \n",
    "\n",
    "assert recipe_raw_df.count() == 231637\n",
    "assert len(recipe_raw_df.columns) == 12\n",
    "assert recipe_raw_df.schema[\"minutes\"].dataType == IntegerType()\n",
    "assert recipe_raw_df.schema[\"tags\"].dataType == StringType()\n",
    "assert recipe_raw_df.schema[\"n_ingredients\"].dataType == IntegerType()"
   ]
  },
  {
   "cell_type": "code",
   "execution_count": 9,
   "id": "151cf9be",
   "metadata": {
    "colab": {
     "referenced_widgets": [
      "fa35191a44e54b0089efcc51894e40c0",
      ""
     ]
    },
    "execution": {
     "iopub.execute_input": "2023-01-07T18:13:22.778413Z",
     "iopub.status.busy": "2023-01-07T18:13:22.778113Z",
     "iopub.status.idle": "2023-01-07T18:13:28.206958Z",
     "shell.execute_reply": "2023-01-07T18:13:28.206087Z",
     "shell.execute_reply.started": "2023-01-07T18:13:22.778380Z"
    },
    "id": "151cf9be",
    "outputId": "ee90dae8-83fb-4536-8742-84feb4823238"
   },
   "outputs": [
    {
     "data": {
      "application/vnd.jupyter.widget-view+json": {
       "model_id": "72a9e0ca655f4831a0889e1da7527b04",
       "version_major": 2,
       "version_minor": 0
      },
      "text/plain": [
       "VBox()"
      ]
     },
     "metadata": {},
     "output_type": "display_data"
    },
    {
     "data": {
      "application/vnd.jupyter.widget-view+json": {
       "model_id": "",
       "version_major": 2,
       "version_minor": 0
      },
      "text/plain": [
       "FloatProgress(value=0.0, bar_style='info', description='Progress:', layout=Layout(height='25px', width='50%'),…"
      ]
     },
     "metadata": {},
     "output_type": "display_data"
    },
    {
     "name": "stdout",
     "output_type": "stream",
     "text": [
      "True"
     ]
    }
   ],
   "source": [
    "recipe_raw_df.count() == 231637"
   ]
  },
  {
   "cell_type": "code",
   "execution_count": 10,
   "id": "18c1bb65",
   "metadata": {
    "colab": {
     "referenced_widgets": [
      "7d2192229d2945a2b2f1b4b4af8124f1",
      ""
     ]
    },
    "execution": {
     "iopub.execute_input": "2023-01-07T18:13:29.558679Z",
     "iopub.status.busy": "2023-01-07T18:13:29.558411Z",
     "iopub.status.idle": "2023-01-07T18:13:29.651918Z",
     "shell.execute_reply": "2023-01-07T18:13:29.651021Z",
     "shell.execute_reply.started": "2023-01-07T18:13:29.558647Z"
    },
    "id": "18c1bb65",
    "outputId": "cb6b95a8-a660-47a8-b266-37d464f7c4ed"
   },
   "outputs": [
    {
     "data": {
      "application/vnd.jupyter.widget-view+json": {
       "model_id": "23800d7bb5754a88b3571952dbcda054",
       "version_major": 2,
       "version_minor": 0
      },
      "text/plain": [
       "VBox()"
      ]
     },
     "metadata": {},
     "output_type": "display_data"
    },
    {
     "data": {
      "application/vnd.jupyter.widget-view+json": {
       "model_id": "",
       "version_major": 2,
       "version_minor": 0
      },
      "text/plain": [
       "FloatProgress(value=0.0, bar_style='info', description='Progress:', layout=Layout(height='25px', width='50%'),…"
      ]
     },
     "metadata": {},
     "output_type": "display_data"
    },
    {
     "name": "stdout",
     "output_type": "stream",
     "text": [
      "True"
     ]
    }
   ],
   "source": [
    "len(recipe_raw_df.columns) == 12"
   ]
  },
  {
   "cell_type": "code",
   "execution_count": 11,
   "id": "83def216",
   "metadata": {
    "colab": {
     "referenced_widgets": [
      "fc2c7922e7714676a68d4816a236c913",
      ""
     ]
    },
    "execution": {
     "iopub.execute_input": "2023-01-07T18:13:31.513209Z",
     "iopub.status.busy": "2023-01-07T18:13:31.512942Z",
     "iopub.status.idle": "2023-01-07T18:13:31.600090Z",
     "shell.execute_reply": "2023-01-07T18:13:31.599102Z",
     "shell.execute_reply.started": "2023-01-07T18:13:31.513178Z"
    },
    "id": "83def216",
    "outputId": "aae9844f-89dd-4f3b-8dd3-9c710bd51db9"
   },
   "outputs": [
    {
     "data": {
      "application/vnd.jupyter.widget-view+json": {
       "model_id": "fb86e4854c164cb5841d6bd9852aa67e",
       "version_major": 2,
       "version_minor": 0
      },
      "text/plain": [
       "VBox()"
      ]
     },
     "metadata": {},
     "output_type": "display_data"
    },
    {
     "data": {
      "application/vnd.jupyter.widget-view+json": {
       "model_id": "",
       "version_major": 2,
       "version_minor": 0
      },
      "text/plain": [
       "FloatProgress(value=0.0, bar_style='info', description='Progress:', layout=Layout(height='25px', width='50%'),…"
      ]
     },
     "metadata": {},
     "output_type": "display_data"
    },
    {
     "name": "stdout",
     "output_type": "stream",
     "text": [
      "True"
     ]
    }
   ],
   "source": [
    "recipe_raw_df.schema[\"minutes\"].dataType == IntegerType()"
   ]
  },
  {
   "cell_type": "code",
   "execution_count": 12,
   "id": "fe6212ab",
   "metadata": {
    "colab": {
     "referenced_widgets": [
      "7b9d7726028144659a3256b91f55b353",
      ""
     ]
    },
    "execution": {
     "iopub.execute_input": "2023-01-07T18:13:35.565969Z",
     "iopub.status.busy": "2023-01-07T18:13:35.565583Z",
     "iopub.status.idle": "2023-01-07T18:13:35.668039Z",
     "shell.execute_reply": "2023-01-07T18:13:35.667027Z",
     "shell.execute_reply.started": "2023-01-07T18:13:35.565921Z"
    },
    "id": "fe6212ab",
    "outputId": "dbf487d8-9a13-423b-9a2b-8633914a5d76"
   },
   "outputs": [
    {
     "data": {
      "application/vnd.jupyter.widget-view+json": {
       "model_id": "a0abb95f1d054a04aae44372a51fd4c9",
       "version_major": 2,
       "version_minor": 0
      },
      "text/plain": [
       "VBox()"
      ]
     },
     "metadata": {},
     "output_type": "display_data"
    },
    {
     "data": {
      "application/vnd.jupyter.widget-view+json": {
       "model_id": "",
       "version_major": 2,
       "version_minor": 0
      },
      "text/plain": [
       "FloatProgress(value=0.0, bar_style='info', description='Progress:', layout=Layout(height='25px', width='50%'),…"
      ]
     },
     "metadata": {},
     "output_type": "display_data"
    },
    {
     "name": "stdout",
     "output_type": "stream",
     "text": [
      "True"
     ]
    }
   ],
   "source": [
    "recipe_raw_df.schema[\"tags\"].dataType == StringType()"
   ]
  },
  {
   "cell_type": "code",
   "execution_count": 13,
   "id": "f6e19274",
   "metadata": {
    "colab": {
     "referenced_widgets": [
      "a58382640c8744f0839d0dc65090bc53",
      ""
     ]
    },
    "execution": {
     "iopub.execute_input": "2023-01-07T18:13:36.902064Z",
     "iopub.status.busy": "2023-01-07T18:13:36.901772Z",
     "iopub.status.idle": "2023-01-07T18:13:36.988841Z",
     "shell.execute_reply": "2023-01-07T18:13:36.988024Z",
     "shell.execute_reply.started": "2023-01-07T18:13:36.902031Z"
    },
    "id": "f6e19274",
    "outputId": "b8510788-ca68-4ca7-e0ed-9cb2148a92e2"
   },
   "outputs": [
    {
     "data": {
      "application/vnd.jupyter.widget-view+json": {
       "model_id": "2408b4600e434047adb476393f935ac7",
       "version_major": 2,
       "version_minor": 0
      },
      "text/plain": [
       "VBox()"
      ]
     },
     "metadata": {},
     "output_type": "display_data"
    },
    {
     "data": {
      "application/vnd.jupyter.widget-view+json": {
       "model_id": "",
       "version_major": 2,
       "version_minor": 0
      },
      "text/plain": [
       "FloatProgress(value=0.0, bar_style='info', description='Progress:', layout=Layout(height='25px', width='50%'),…"
      ]
     },
     "metadata": {},
     "output_type": "display_data"
    },
    {
     "name": "stdout",
     "output_type": "stream",
     "text": [
      "True"
     ]
    }
   ],
   "source": [
    "recipe_raw_df.schema[\"n_ingredients\"].dataType == IntegerType()"
   ]
  },
  {
   "cell_type": "markdown",
   "id": "abe22c84",
   "metadata": {
    "id": "abe22c84"
   },
   "source": [
    "### Task 1 Validation Completed"
   ]
  },
  {
   "cell_type": "markdown",
   "id": "4096d762",
   "metadata": {
    "id": "4096d762"
   },
   "source": [
    "## Nutrition Column Parsing"
   ]
  },
  {
   "cell_type": "code",
   "execution_count": 14,
   "id": "2f26b9a8",
   "metadata": {
    "colab": {
     "referenced_widgets": [
      "551f0d173026411683e17ed5adb24bb8",
      ""
     ]
    },
    "execution": {
     "iopub.execute_input": "2023-01-07T18:13:39.414530Z",
     "iopub.status.busy": "2023-01-07T18:13:39.414257Z",
     "iopub.status.idle": "2023-01-07T18:13:39.499857Z",
     "shell.execute_reply": "2023-01-07T18:13:39.499145Z",
     "shell.execute_reply.started": "2023-01-07T18:13:39.414498Z"
    },
    "id": "2f26b9a8",
    "outputId": "e4311c34-9c90-49b1-dd9a-5e33072de3d9"
   },
   "outputs": [
    {
     "data": {
      "application/vnd.jupyter.widget-view+json": {
       "model_id": "dc54928692bc4299b1a90dffb6719fd5",
       "version_major": 2,
       "version_minor": 0
      },
      "text/plain": [
       "VBox()"
      ]
     },
     "metadata": {},
     "output_type": "display_data"
    },
    {
     "data": {
      "application/vnd.jupyter.widget-view+json": {
       "model_id": "",
       "version_major": 2,
       "version_minor": 0
      },
      "text/plain": [
       "FloatProgress(value=0.0, bar_style='info', description='Progress:', layout=Layout(height='25px', width='50%'),…"
      ]
     },
     "metadata": {},
     "output_type": "display_data"
    }
   ],
   "source": [
    "# List of nutrition columns\n",
    "\n",
    "nutrition_column_names = ['calories',\n",
    "                          'total_fat_PDV',\n",
    "                          'sugar_PDV',\n",
    "                          'sodium_PDV',\n",
    "                          'protein_PDV',\n",
    "                          'saturated_fat_PDV',\n",
    "                          'carbohydrates_PDV']"
   ]
  },
  {
   "cell_type": "markdown",
   "id": "04487502",
   "metadata": {
    "id": "04487502"
   },
   "source": [
    "## <font color = blue >  Task 02: Nutrition Column Transformation  </font>"
   ]
  },
  {
   "cell_type": "markdown",
   "id": "ace59eb3",
   "metadata": {
    "id": "ace59eb3"
   },
   "source": [
    "\n",
    "As read by the spark compiler, the nutrition column is a string column when it should be an array of float values. Each row in the nutrition column contains seven values. Each value represents nutrition information.\n",
    "Your task is to separate the array into seven individual columns.\n",
    "\n",
    "Write a code that takes in the nutrition column from raw_recipes_df dataframe, and extracts individual values into seven different columns named calories, total fat (PDV), sugar (PDV), sodium (PDV), protein (PDV), saturated fat (PDV), and carbohydrates (PDV)."
   ]
  },
  {
   "cell_type": "markdown",
   "id": "2ecc64b6",
   "metadata": {
    "id": "2ecc64b6"
   },
   "source": [
    "### Solution to Task 02 "
   ]
  },
  {
   "cell_type": "code",
   "execution_count": 15,
   "id": "4d23fd4c",
   "metadata": {
    "colab": {
     "referenced_widgets": [
      "2b7240d6e167480d9b7720a0d1c9fe45",
      ""
     ]
    },
    "execution": {
     "iopub.execute_input": "2023-01-07T18:13:44.724531Z",
     "iopub.status.busy": "2023-01-07T18:13:44.724269Z",
     "iopub.status.idle": "2023-01-07T18:13:45.527461Z",
     "shell.execute_reply": "2023-01-07T18:13:45.526505Z",
     "shell.execute_reply.started": "2023-01-07T18:13:44.724499Z"
    },
    "id": "4d23fd4c",
    "outputId": "73cfcf53-005c-4388-f9e3-0b273d827339"
   },
   "outputs": [
    {
     "data": {
      "application/vnd.jupyter.widget-view+json": {
       "model_id": "e30504c7ba424b88bc8987eb79434f88",
       "version_major": 2,
       "version_minor": 0
      },
      "text/plain": [
       "VBox()"
      ]
     },
     "metadata": {},
     "output_type": "display_data"
    },
    {
     "data": {
      "application/vnd.jupyter.widget-view+json": {
       "model_id": "",
       "version_major": 2,
       "version_minor": 0
      },
      "text/plain": [
       "FloatProgress(value=0.0, bar_style='info', description='Progress:', layout=Layout(height='25px', width='50%'),…"
      ]
     },
     "metadata": {},
     "output_type": "display_data"
    },
    {
     "name": "stdout",
     "output_type": "stream",
     "text": [
      "+--------------------+\n",
      "|           nutrition|\n",
      "+--------------------+\n",
      "|[51.5, 0.0, 13.0,...|\n",
      "|[173.4, 18.0, 0.0...|\n",
      "|[269.8, 22.0, 32....|\n",
      "|[368.1, 17.0, 10....|\n",
      "|[352.9, 1.0, 337....|\n",
      "+--------------------+\n",
      "only showing top 5 rows"
     ]
    }
   ],
   "source": [
    "# Task 02 Cell 1 out of 2\n",
    "# 2.1 - string operations to remove square brakets\n",
    "\n",
    "recipe_raw_df.select('nutrition').show(5)"
   ]
  },
  {
   "cell_type": "code",
   "execution_count": 16,
   "id": "57a16335",
   "metadata": {
    "colab": {
     "referenced_widgets": [
      "9293cb8c80074fa3ab76bfd4f99071b2",
      ""
     ]
    },
    "execution": {
     "iopub.execute_input": "2023-01-07T18:13:47.870543Z",
     "iopub.status.busy": "2023-01-07T18:13:47.870259Z",
     "iopub.status.idle": "2023-01-07T18:13:48.168881Z",
     "shell.execute_reply": "2023-01-07T18:13:48.167939Z",
     "shell.execute_reply.started": "2023-01-07T18:13:47.870510Z"
    },
    "id": "57a16335",
    "outputId": "3affde50-806a-454c-990b-ff40c78f0e1a"
   },
   "outputs": [
    {
     "data": {
      "application/vnd.jupyter.widget-view+json": {
       "model_id": "e36760f203b8424dae8e676f1dba467a",
       "version_major": 2,
       "version_minor": 0
      },
      "text/plain": [
       "VBox()"
      ]
     },
     "metadata": {},
     "output_type": "display_data"
    },
    {
     "data": {
      "application/vnd.jupyter.widget-view+json": {
       "model_id": "",
       "version_major": 2,
       "version_minor": 0
      },
      "text/plain": [
       "FloatProgress(value=0.0, bar_style='info', description='Progress:', layout=Layout(height='25px', width='50%'),…"
      ]
     },
     "metadata": {},
     "output_type": "display_data"
    }
   ],
   "source": [
    "# STEP 2.1 - String manipulation to remove square brackets in 'nutrition' column\n",
    "\n",
    "\n",
    "recipe_raw_df = (recipe_raw_df\n",
    "                  .withColumn('nutrition',(func.regexp_replace(\"nutrition\",\"[\\[\\]]\",\"\"))))"
   ]
  },
  {
   "cell_type": "code",
   "execution_count": 17,
   "id": "e11e0b6a",
   "metadata": {
    "colab": {
     "referenced_widgets": [
      "6ac80fce622444e3bb54daee1881e57e",
      ""
     ]
    },
    "execution": {
     "iopub.execute_input": "2023-01-07T18:13:49.173380Z",
     "iopub.status.busy": "2023-01-07T18:13:49.173103Z",
     "iopub.status.idle": "2023-01-07T18:13:49.996072Z",
     "shell.execute_reply": "2023-01-07T18:13:49.995300Z",
     "shell.execute_reply.started": "2023-01-07T18:13:49.173348Z"
    },
    "id": "e11e0b6a",
    "outputId": "123307da-61b5-4aa6-ad8d-edd12e1f5668"
   },
   "outputs": [
    {
     "data": {
      "application/vnd.jupyter.widget-view+json": {
       "model_id": "bc9a739ff46947da88cb24ed17466292",
       "version_major": 2,
       "version_minor": 0
      },
      "text/plain": [
       "VBox()"
      ]
     },
     "metadata": {},
     "output_type": "display_data"
    },
    {
     "data": {
      "application/vnd.jupyter.widget-view+json": {
       "model_id": "",
       "version_major": 2,
       "version_minor": 0
      },
      "text/plain": [
       "FloatProgress(value=0.0, bar_style='info', description='Progress:', layout=Layout(height='25px', width='50%'),…"
      ]
     },
     "metadata": {},
     "output_type": "display_data"
    }
   ],
   "source": [
    "# Task 02 Cell 2 out of 3\n",
    "# STEP 2.2 - Split the neutrition string into seven individual values. \n",
    "# Create an object to split the nutrition column\n",
    "\n",
    "import pyspark\n",
    "\n",
    "nutrition_col_split = pyspark.sql.functions.split(recipe_raw_df['nutrition'],',')\n",
    "for col_index, col_name in enumerate(nutrition_column_names):\n",
    "    recipe_raw_df = (recipe_raw_df.withColumn(col_name, nutrition_col_split.getItem(col_index).cast(\"float\")))"
   ]
  },
  {
   "cell_type": "markdown",
   "id": "5a5c6622",
   "metadata": {
    "id": "5a5c6622"
   },
   "source": [
    "### Validation for task 02"
   ]
  },
  {
   "cell_type": "code",
   "execution_count": 18,
   "id": "8e21baa0",
   "metadata": {
    "colab": {
     "referenced_widgets": [
      "ea1d1ccf3dfd4bbc86976be7882648ed",
      ""
     ]
    },
    "execution": {
     "iopub.execute_input": "2023-01-07T18:13:51.834669Z",
     "iopub.status.busy": "2023-01-07T18:13:51.834377Z",
     "iopub.status.idle": "2023-01-07T18:14:31.450663Z",
     "shell.execute_reply": "2023-01-07T18:14:31.449650Z",
     "shell.execute_reply.started": "2023-01-07T18:13:51.834638Z"
    },
    "id": "8e21baa0",
    "outputId": "795cfc93-f7e3-4fb9-e8ba-a1758afe9187"
   },
   "outputs": [
    {
     "data": {
      "application/vnd.jupyter.widget-view+json": {
       "model_id": "aa92dda42b5949d1a01d8510f070bd65",
       "version_major": 2,
       "version_minor": 0
      },
      "text/plain": [
       "VBox()"
      ]
     },
     "metadata": {},
     "output_type": "display_data"
    },
    {
     "data": {
      "application/vnd.jupyter.widget-view+json": {
       "model_id": "",
       "version_major": 2,
       "version_minor": 0
      },
      "text/plain": [
       "FloatProgress(value=0.0, bar_style='info', description='Progress:', layout=Layout(height='25px', width='50%'),…"
      ]
     },
     "metadata": {},
     "output_type": "display_data"
    }
   ],
   "source": [
    "# Code check cell\n",
    "# Do not edit cells with assert commands\n",
    "# If an error is shown after running this cell, please recheck your code.  \n",
    "\n",
    "assert recipe_raw_df.schema[\"carbohydrates_PDV\"].dataType == FloatType(), \"Recheck your typecasting\"\n",
    "assert recipe_raw_df.collect()[123432][14] == 62.0, \"The columns have not been split correctly.\"\n",
    "assert recipe_raw_df.collect()[10000][12] == 60.400001525878906, \"The columns have not been split correctly.\""
   ]
  },
  {
   "cell_type": "code",
   "execution_count": 19,
   "id": "dd1654c5",
   "metadata": {
    "colab": {
     "referenced_widgets": [
      "7b62c761bc6148c49eed53e9a28feb0d",
      ""
     ]
    },
    "execution": {
     "iopub.execute_input": "2023-01-07T18:14:33.034564Z",
     "iopub.status.busy": "2023-01-07T18:14:33.034295Z",
     "iopub.status.idle": "2023-01-07T18:14:33.122903Z",
     "shell.execute_reply": "2023-01-07T18:14:33.121975Z",
     "shell.execute_reply.started": "2023-01-07T18:14:33.034532Z"
    },
    "id": "dd1654c5",
    "outputId": "6c7c7027-8524-4179-bd05-4a4642b4849c"
   },
   "outputs": [
    {
     "data": {
      "application/vnd.jupyter.widget-view+json": {
       "model_id": "4bcb037148b94bb2862c6a55915d5fe5",
       "version_major": 2,
       "version_minor": 0
      },
      "text/plain": [
       "VBox()"
      ]
     },
     "metadata": {},
     "output_type": "display_data"
    },
    {
     "data": {
      "application/vnd.jupyter.widget-view+json": {
       "model_id": "",
       "version_major": 2,
       "version_minor": 0
      },
      "text/plain": [
       "FloatProgress(value=0.0, bar_style='info', description='Progress:', layout=Layout(height='25px', width='50%'),…"
      ]
     },
     "metadata": {},
     "output_type": "display_data"
    },
    {
     "name": "stdout",
     "output_type": "stream",
     "text": [
      "True"
     ]
    }
   ],
   "source": [
    "recipe_raw_df.schema[\"carbohydrates_PDV\"].dataType == FloatType()"
   ]
  },
  {
   "cell_type": "code",
   "execution_count": 20,
   "id": "c55c12b2",
   "metadata": {
    "colab": {
     "referenced_widgets": [
      "cbe3bab375c34b7d95f266f16f6c4d1a",
      ""
     ]
    },
    "execution": {
     "iopub.execute_input": "2023-01-07T18:14:34.926534Z",
     "iopub.status.busy": "2023-01-07T18:14:34.926246Z",
     "iopub.status.idle": "2023-01-07T18:14:50.666420Z",
     "shell.execute_reply": "2023-01-07T18:14:50.665571Z",
     "shell.execute_reply.started": "2023-01-07T18:14:34.926502Z"
    },
    "id": "c55c12b2",
    "outputId": "2f5cf333-2708-48e3-fe65-e9905fccdbff"
   },
   "outputs": [
    {
     "data": {
      "application/vnd.jupyter.widget-view+json": {
       "model_id": "f334ef4fc0f64016b004549d9524e399",
       "version_major": 2,
       "version_minor": 0
      },
      "text/plain": [
       "VBox()"
      ]
     },
     "metadata": {},
     "output_type": "display_data"
    },
    {
     "data": {
      "application/vnd.jupyter.widget-view+json": {
       "model_id": "",
       "version_major": 2,
       "version_minor": 0
      },
      "text/plain": [
       "FloatProgress(value=0.0, bar_style='info', description='Progress:', layout=Layout(height='25px', width='50%'),…"
      ]
     },
     "metadata": {},
     "output_type": "display_data"
    },
    {
     "name": "stdout",
     "output_type": "stream",
     "text": [
      "True"
     ]
    }
   ],
   "source": [
    "recipe_raw_df.collect()[123432][14] == 62.0"
   ]
  },
  {
   "cell_type": "code",
   "execution_count": 21,
   "id": "7ef0a586",
   "metadata": {
    "colab": {
     "referenced_widgets": [
      "eb6974608fdb44abb142c2b01c7f4f3e",
      ""
     ]
    },
    "execution": {
     "iopub.execute_input": "2023-01-07T18:14:53.142129Z",
     "iopub.status.busy": "2023-01-07T18:14:53.141848Z",
     "iopub.status.idle": "2023-01-07T18:15:10.603207Z",
     "shell.execute_reply": "2023-01-07T18:15:10.602122Z",
     "shell.execute_reply.started": "2023-01-07T18:14:53.142097Z"
    },
    "id": "7ef0a586",
    "outputId": "9a5cd100-4ab7-407e-e1c4-a6e80625a5dd"
   },
   "outputs": [
    {
     "data": {
      "application/vnd.jupyter.widget-view+json": {
       "model_id": "9f09429486444ab38890781a95f88cf1",
       "version_major": 2,
       "version_minor": 0
      },
      "text/plain": [
       "VBox()"
      ]
     },
     "metadata": {},
     "output_type": "display_data"
    },
    {
     "data": {
      "application/vnd.jupyter.widget-view+json": {
       "model_id": "",
       "version_major": 2,
       "version_minor": 0
      },
      "text/plain": [
       "FloatProgress(value=0.0, bar_style='info', description='Progress:', layout=Layout(height='25px', width='50%'),…"
      ]
     },
     "metadata": {},
     "output_type": "display_data"
    },
    {
     "name": "stdout",
     "output_type": "stream",
     "text": [
      "True"
     ]
    }
   ],
   "source": [
    "recipe_raw_df.collect()[10000][12] == 60.400001525878906"
   ]
  },
  {
   "cell_type": "markdown",
   "id": "7af320aa",
   "metadata": {
    "id": "7af320aa"
   },
   "source": [
    "### Task 2 Validation Completed"
   ]
  },
  {
   "cell_type": "markdown",
   "id": "c9d2b1c1",
   "metadata": {
    "id": "c9d2b1c1"
   },
   "source": [
    "## Generate nutrition-per-100 calorie columns\n",
    "1) By converting the nutrition values from absolute to relative terms, we ensure that portion size is not a factor in the analysis.\n",
    "\n",
    "2) Naming convention: Original column name total fat (PDV), column name after column total_fat_per_100_cal"
   ]
  },
  {
   "cell_type": "markdown",
   "id": "ed8e439c",
   "metadata": {
    "id": "ed8e439c"
   },
   "source": [
    "## <font color = blue >  Task 03: Nutrition Standardization  </font>"
   ]
  },
  {
   "cell_type": "markdown",
   "id": "ab9479b0",
   "metadata": {
    "id": "ab9479b0"
   },
   "source": [
    "1) The current values for nutrition columns are not on the same scale. Your task is to standardize the nutrition columns using calories as the base of standardization.\n",
    "\n",
    "2) Convert the nutrition from absolute values to per 100 calorie values."
   ]
  },
  {
   "cell_type": "markdown",
   "id": "5603ca45",
   "metadata": {
    "id": "5603ca45"
   },
   "source": [
    "*We will use the sugar (PDV) column to demonstrate the calculations for standardization.*"
   ]
  },
  {
   "cell_type": "markdown",
   "id": "b4f2e703",
   "metadata": {
    "id": "b4f2e703"
   },
   "source": [
    "#### Sample Calculation\n",
    "\n",
    "Before transformation: sugar (PDV) for recipe id 137739 = 13.0\n",
    "\n",
    "Calories in the recipe recipe id 137739 = 51.5\n",
    "\n",
    "Calculation:\n",
    "\n",
    "sugar_per_100_cal = 13.0 * 100 / 51.5\n",
    "\n",
    "After transformation sugar_per_100_cal = 25.24"
   ]
  },
  {
   "cell_type": "markdown",
   "id": "a0dbf0b0",
   "metadata": {
    "id": "a0dbf0b0"
   },
   "source": [
    "### Solution to task 03"
   ]
  },
  {
   "cell_type": "code",
   "execution_count": 22,
   "id": "a8b829c9",
   "metadata": {
    "colab": {
     "referenced_widgets": [
      "47cce8ac6115462faeaebd4a0baad10c",
      ""
     ]
    },
    "execution": {
     "iopub.execute_input": "2023-01-07T18:15:21.136777Z",
     "iopub.status.busy": "2023-01-07T18:15:21.136368Z",
     "iopub.status.idle": "2023-01-07T18:15:21.975315Z",
     "shell.execute_reply": "2023-01-07T18:15:21.974260Z",
     "shell.execute_reply.started": "2023-01-07T18:15:21.136726Z"
    },
    "id": "a8b829c9",
    "outputId": "1abc973d-ec2a-4320-ebb9-9f1d7f768a46"
   },
   "outputs": [
    {
     "data": {
      "application/vnd.jupyter.widget-view+json": {
       "model_id": "e786b429a5384a18998898d9641bac68",
       "version_major": 2,
       "version_minor": 0
      },
      "text/plain": [
       "VBox()"
      ]
     },
     "metadata": {},
     "output_type": "display_data"
    },
    {
     "data": {
      "application/vnd.jupyter.widget-view+json": {
       "model_id": "",
       "version_major": 2,
       "version_minor": 0
      },
      "text/plain": [
       "FloatProgress(value=0.0, bar_style='info', description='Progress:', layout=Layout(height='25px', width='50%'),…"
      ]
     },
     "metadata": {},
     "output_type": "display_data"
    }
   ],
   "source": [
    "# Task 03 Cell 1 out of 1\n",
    "\n",
    "for nutrition_column in nutrition_column_names:# loop over each of the newly created nutrition columns \n",
    "    if nutrition_column != \"calories\":\n",
    "        # the calories column should not be a part of the transformation exercise\n",
    "        # following code will name the new columns \n",
    "        nutrition_per_100_cal_column = (nutrition_column\n",
    "                                 .replace('_PDV','')\n",
    "                                 +'_per_100_cal')\n",
    "        recipe_raw_df = recipe_raw_df.withColumn(nutrition_per_100_cal_column,\n",
    "                                               recipe_raw_df[nutrition_column]*100/recipe_raw_df[\"calories\"]\n",
    "                                                # pyspark code to recreate the intended transformation \n",
    "                                                  )\n",
    "        \n",
    "        # You might end up adding nulls to the data because of our intended transformation. \n",
    "        # Perform a fill na operation to fill all the nulls with 0s. \n",
    "        # You must limit the scope of the fill na to the current column only. \n",
    "        \n",
    "        recipe_raw_df = recipe_raw_df.fillna(value=0,subset=[nutrition_per_100_cal_column]) \n",
    "        # pyspark code to fill nulls with 0 in only the current nutrition_per_100_cal_column         "
   ]
  },
  {
   "cell_type": "markdown",
   "id": "fc732e54",
   "metadata": {
    "id": "fc732e54"
   },
   "source": [
    "### Validation for Task 03"
   ]
  },
  {
   "cell_type": "code",
   "execution_count": 23,
   "id": "5a6fae38",
   "metadata": {
    "colab": {
     "referenced_widgets": [
      "17d2ac27f3514cb18614759be70a319a",
      ""
     ]
    },
    "execution": {
     "iopub.execute_input": "2023-01-07T18:15:28.353296Z",
     "iopub.status.busy": "2023-01-07T18:15:28.352771Z",
     "iopub.status.idle": "2023-01-07T18:16:06.389196Z",
     "shell.execute_reply": "2023-01-07T18:16:06.384278Z",
     "shell.execute_reply.started": "2023-01-07T18:15:28.353244Z"
    },
    "id": "5a6fae38",
    "outputId": "a3b42a02-417b-4f48-b0cb-09d3985cab5c"
   },
   "outputs": [
    {
     "data": {
      "application/vnd.jupyter.widget-view+json": {
       "model_id": "e839b56e47594da497b59c59e180b8f7",
       "version_major": 2,
       "version_minor": 0
      },
      "text/plain": [
       "VBox()"
      ]
     },
     "metadata": {},
     "output_type": "display_data"
    },
    {
     "data": {
      "application/vnd.jupyter.widget-view+json": {
       "model_id": "",
       "version_major": 2,
       "version_minor": 0
      },
      "text/plain": [
       "FloatProgress(value=0.0, bar_style='info', description='Progress:', layout=Layout(height='25px', width='50%'),…"
      ]
     },
     "metadata": {},
     "output_type": "display_data"
    }
   ],
   "source": [
    "# total fat check for id 28881\n",
    "assert recipe_raw_df.filter(\"id == 28881\").select('total_fat_per_100_cal').first()[0] == 0, \"total_fat_per_100_cal for recipe 28881 should be 0\"\n",
    "\n",
    "# total fat check for id 112140\n",
    "assert round(recipe_raw_df.filter(\"id == 112140\").select('total_fat_per_100_cal').first()[0]) == 8, \"total_fat_per_100_cal for recipe 112140 should be 8\"\n",
    "\n",
    "# checking for nulls\n",
    "for x in ['total_fat_per_100_cal','sugar_per_100_cal','sodium_per_100_cal','protein_per_100_cal',\n",
    "                          'saturated_fat_per_100_cal','carbohydrates_per_100_cal']:\n",
    "    assert recipe_raw_df.select(func.count(func.when(func.isnan(x) | func.col(x).isNull(), x)).alias(x)).collect()[0][0] == 0, \"There are Nulls in the data\""
   ]
  },
  {
   "cell_type": "code",
   "execution_count": 24,
   "id": "407b36b4",
   "metadata": {
    "colab": {
     "referenced_widgets": [
      "27a702d5452d4432bd80402c9291a4ff",
      ""
     ]
    },
    "execution": {
     "iopub.execute_input": "2023-01-07T18:16:10.030357Z",
     "iopub.status.busy": "2023-01-07T18:16:10.030091Z",
     "iopub.status.idle": "2023-01-07T18:16:12.349636Z",
     "shell.execute_reply": "2023-01-07T18:16:12.348532Z",
     "shell.execute_reply.started": "2023-01-07T18:16:10.030325Z"
    },
    "id": "407b36b4",
    "outputId": "c6476943-27fd-46e8-bb84-d11d77b64f4b"
   },
   "outputs": [
    {
     "data": {
      "application/vnd.jupyter.widget-view+json": {
       "model_id": "d69ab037ed9749eab7311f12da7b264b",
       "version_major": 2,
       "version_minor": 0
      },
      "text/plain": [
       "VBox()"
      ]
     },
     "metadata": {},
     "output_type": "display_data"
    },
    {
     "data": {
      "application/vnd.jupyter.widget-view+json": {
       "model_id": "",
       "version_major": 2,
       "version_minor": 0
      },
      "text/plain": [
       "FloatProgress(value=0.0, bar_style='info', description='Progress:', layout=Layout(height='25px', width='50%'),…"
      ]
     },
     "metadata": {},
     "output_type": "display_data"
    },
    {
     "name": "stdout",
     "output_type": "stream",
     "text": [
      "True"
     ]
    }
   ],
   "source": [
    "recipe_raw_df.filter(\"id == 28881\").select('total_fat_per_100_cal').first()[0] == 0"
   ]
  },
  {
   "cell_type": "code",
   "execution_count": 25,
   "id": "51748f1a",
   "metadata": {
    "colab": {
     "referenced_widgets": [
      "1873ccd098be4e2c8ca54f3da376c42a",
      ""
     ]
    },
    "execution": {
     "iopub.execute_input": "2023-01-07T18:16:14.909187Z",
     "iopub.status.busy": "2023-01-07T18:16:14.908917Z",
     "iopub.status.idle": "2023-01-07T18:16:15.200515Z",
     "shell.execute_reply": "2023-01-07T18:16:15.199729Z",
     "shell.execute_reply.started": "2023-01-07T18:16:14.909156Z"
    },
    "id": "51748f1a",
    "outputId": "e099d285-7cd3-428e-a87b-639ea3636357"
   },
   "outputs": [
    {
     "data": {
      "application/vnd.jupyter.widget-view+json": {
       "model_id": "a01c4aeeacc14727b4aa63609aa63c07",
       "version_major": 2,
       "version_minor": 0
      },
      "text/plain": [
       "VBox()"
      ]
     },
     "metadata": {},
     "output_type": "display_data"
    },
    {
     "data": {
      "application/vnd.jupyter.widget-view+json": {
       "model_id": "",
       "version_major": 2,
       "version_minor": 0
      },
      "text/plain": [
       "FloatProgress(value=0.0, bar_style='info', description='Progress:', layout=Layout(height='25px', width='50%'),…"
      ]
     },
     "metadata": {},
     "output_type": "display_data"
    },
    {
     "name": "stdout",
     "output_type": "stream",
     "text": [
      "True"
     ]
    }
   ],
   "source": [
    "round(recipe_raw_df.filter(\"id == 112140\").select('total_fat_per_100_cal').first()[0]) == 8"
   ]
  },
  {
   "cell_type": "code",
   "execution_count": 26,
   "id": "be84d2fd",
   "metadata": {
    "colab": {
     "referenced_widgets": [
      "0d2d097156194fe1974c94ef27e5fb2f",
      ""
     ]
    },
    "execution": {
     "iopub.execute_input": "2023-01-07T18:16:16.523924Z",
     "iopub.status.busy": "2023-01-07T18:16:16.523648Z",
     "iopub.status.idle": "2023-01-07T18:16:40.149108Z",
     "shell.execute_reply": "2023-01-07T18:16:40.148189Z",
     "shell.execute_reply.started": "2023-01-07T18:16:16.523891Z"
    },
    "id": "be84d2fd",
    "outputId": "6f4745e7-9614-46f7-eaf3-2097d38faeff"
   },
   "outputs": [
    {
     "data": {
      "application/vnd.jupyter.widget-view+json": {
       "model_id": "f437cc5bb4b7475fbae98cdc31a6d17d",
       "version_major": 2,
       "version_minor": 0
      },
      "text/plain": [
       "VBox()"
      ]
     },
     "metadata": {},
     "output_type": "display_data"
    },
    {
     "data": {
      "application/vnd.jupyter.widget-view+json": {
       "model_id": "",
       "version_major": 2,
       "version_minor": 0
      },
      "text/plain": [
       "FloatProgress(value=0.0, bar_style='info', description='Progress:', layout=Layout(height='25px', width='50%'),…"
      ]
     },
     "metadata": {},
     "output_type": "display_data"
    },
    {
     "name": "stdout",
     "output_type": "stream",
     "text": [
      "True"
     ]
    }
   ],
   "source": [
    "for y in ['total_fat_per_100_cal','sugar_per_100_cal','sodium_per_100_cal','protein_per_100_cal',\n",
    "                          'saturated_fat_per_100_cal','carbohydrates_per_100_cal']:\n",
    "    assert recipe_raw_df.select(func.count(func.when(func.isnan(y) | func.col(y).isNull(), y)).alias(y)).collect()[0][0] == 0"
   ]
  },
  {
   "cell_type": "code",
   "execution_count": 27,
   "id": "39905e3e",
   "metadata": {
    "colab": {
     "referenced_widgets": [
      "e219464f88574a368aa497094394474a",
      ""
     ]
    },
    "execution": {
     "iopub.execute_input": "2023-01-07T18:16:40.151144Z",
     "iopub.status.busy": "2023-01-07T18:16:40.150783Z",
     "iopub.status.idle": "2023-01-07T18:16:40.225866Z",
     "shell.execute_reply": "2023-01-07T18:16:40.224769Z",
     "shell.execute_reply.started": "2023-01-07T18:16:40.151068Z"
    },
    "id": "39905e3e",
    "outputId": "1b241ac3-121e-47df-a7e6-edf9e86ce6f9"
   },
   "outputs": [
    {
     "data": {
      "application/vnd.jupyter.widget-view+json": {
       "model_id": "d9c13930d42a4b698b25b7231073b3ec",
       "version_major": 2,
       "version_minor": 0
      },
      "text/plain": [
       "VBox()"
      ]
     },
     "metadata": {},
     "output_type": "display_data"
    },
    {
     "data": {
      "application/vnd.jupyter.widget-view+json": {
       "model_id": "",
       "version_major": 2,
       "version_minor": 0
      },
      "text/plain": [
       "FloatProgress(value=0.0, bar_style='info', description='Progress:', layout=Layout(height='25px', width='50%'),…"
      ]
     },
     "metadata": {},
     "output_type": "display_data"
    },
    {
     "name": "stdout",
     "output_type": "stream",
     "text": [
      "root\n",
      " |-- name: string (nullable = true)\n",
      " |-- id: integer (nullable = true)\n",
      " |-- minutes: integer (nullable = true)\n",
      " |-- contributor_id: integer (nullable = true)\n",
      " |-- submitted: string (nullable = true)\n",
      " |-- tags: string (nullable = true)\n",
      " |-- nutrition: string (nullable = true)\n",
      " |-- n_steps: integer (nullable = true)\n",
      " |-- steps: string (nullable = true)\n",
      " |-- description: string (nullable = true)\n",
      " |-- ingredients: string (nullable = true)\n",
      " |-- n_ingredients: integer (nullable = true)\n",
      " |-- calories: float (nullable = true)\n",
      " |-- total_fat_PDV: float (nullable = true)\n",
      " |-- sugar_PDV: float (nullable = true)\n",
      " |-- sodium_PDV: float (nullable = true)\n",
      " |-- protein_PDV: float (nullable = true)\n",
      " |-- saturated_fat_PDV: float (nullable = true)\n",
      " |-- carbohydrates_PDV: float (nullable = true)\n",
      " |-- total_fat_per_100_cal: double (nullable = false)\n",
      " |-- sugar_per_100_cal: double (nullable = false)\n",
      " |-- sodium_per_100_cal: double (nullable = false)\n",
      " |-- protein_per_100_cal: double (nullable = false)\n",
      " |-- saturated_fat_per_100_cal: double (nullable = false)\n",
      " |-- carbohydrates_per_100_cal: double (nullable = false)"
     ]
    }
   ],
   "source": [
    "recipe_raw_df.printSchema()"
   ]
  },
  {
   "cell_type": "markdown",
   "id": "6cba9f37",
   "metadata": {
    "id": "6cba9f37"
   },
   "source": [
    "### Task 3 Validation Completed"
   ]
  },
  {
   "cell_type": "markdown",
   "id": "feed5d93",
   "metadata": {
    "id": "feed5d93"
   },
   "source": [
    "## <font color = blue >  Task 04: Convert the tags column from a string to an array of strings  </font>"
   ]
  },
  {
   "cell_type": "markdown",
   "id": "baffc679",
   "metadata": {
    "id": "baffc679"
   },
   "source": [
    "1) Currently, the tags column is a string column but holds an array of strings.\n",
    "\n",
    "2) Your task is to convert the tags columns from a string to an array of strings.\n",
    "\n",
    "3) Remove [ ] ' punctuation marks from the tags column. Split the tags column based on the comma delimiter"
   ]
  },
  {
   "cell_type": "markdown",
   "id": "934e4328",
   "metadata": {
    "id": "934e4328"
   },
   "source": [
    "### Solution to Task 04"
   ]
  },
  {
   "cell_type": "code",
   "execution_count": 28,
   "id": "66977b36",
   "metadata": {
    "colab": {
     "referenced_widgets": [
      "6fabc5afaba7499c8dfca43bab0bd2bf",
      ""
     ]
    },
    "execution": {
     "iopub.execute_input": "2023-01-07T18:16:50.183711Z",
     "iopub.status.busy": "2023-01-07T18:16:50.183423Z",
     "iopub.status.idle": "2023-01-07T18:16:50.476148Z",
     "shell.execute_reply": "2023-01-07T18:16:50.475189Z",
     "shell.execute_reply.started": "2023-01-07T18:16:50.183677Z"
    },
    "id": "66977b36",
    "outputId": "d613b05d-e531-436e-efdc-274e1269e0c8"
   },
   "outputs": [
    {
     "data": {
      "application/vnd.jupyter.widget-view+json": {
       "model_id": "0b738337df7243ef99aa782b215df06c",
       "version_major": 2,
       "version_minor": 0
      },
      "text/plain": [
       "VBox()"
      ]
     },
     "metadata": {},
     "output_type": "display_data"
    },
    {
     "data": {
      "application/vnd.jupyter.widget-view+json": {
       "model_id": "",
       "version_major": 2,
       "version_minor": 0
      },
      "text/plain": [
       "FloatProgress(value=0.0, bar_style='info', description='Progress:', layout=Layout(height='25px', width='50%'),…"
      ]
     },
     "metadata": {},
     "output_type": "display_data"
    }
   ],
   "source": [
    "# Task 04 Cell 1 out of 1\n",
    "recipe_raw_df = (recipe_raw_df\n",
    "                  .withColumn('tags', func.regexp_replace(\"tags\",\"[\\\\[\\\\]\\\\']\",\"\")\n",
    "                             )\n",
    "                  .withColumn('tags', func.split(\"tags\",\", \")\n",
    "                             )\n",
    "                 )"
   ]
  },
  {
   "cell_type": "code",
   "execution_count": 29,
   "id": "6e4005ab",
   "metadata": {
    "colab": {
     "referenced_widgets": [
      "e418e91de40a4bd493c45a4f078f76e9",
      ""
     ]
    },
    "execution": {
     "iopub.execute_input": "2023-01-07T18:16:56.058343Z",
     "iopub.status.busy": "2023-01-07T18:16:56.058063Z",
     "iopub.status.idle": "2023-01-07T18:16:56.176576Z",
     "shell.execute_reply": "2023-01-07T18:16:56.175683Z",
     "shell.execute_reply.started": "2023-01-07T18:16:56.058311Z"
    },
    "id": "6e4005ab",
    "outputId": "56971199-93fa-4899-90a8-d904eab57e40"
   },
   "outputs": [
    {
     "data": {
      "application/vnd.jupyter.widget-view+json": {
       "model_id": "6d12acd1dd6549f3af5548e819e069bb",
       "version_major": 2,
       "version_minor": 0
      },
      "text/plain": [
       "VBox()"
      ]
     },
     "metadata": {},
     "output_type": "display_data"
    },
    {
     "data": {
      "application/vnd.jupyter.widget-view+json": {
       "model_id": "",
       "version_major": 2,
       "version_minor": 0
      },
      "text/plain": [
       "FloatProgress(value=0.0, bar_style='info', description='Progress:', layout=Layout(height='25px', width='50%'),…"
      ]
     },
     "metadata": {},
     "output_type": "display_data"
    },
    {
     "name": "stdout",
     "output_type": "stream",
     "text": [
      "root\n",
      " |-- name: string (nullable = true)\n",
      " |-- id: integer (nullable = true)\n",
      " |-- minutes: integer (nullable = true)\n",
      " |-- contributor_id: integer (nullable = true)\n",
      " |-- submitted: string (nullable = true)\n",
      " |-- tags: array (nullable = true)\n",
      " |    |-- element: string (containsNull = true)\n",
      " |-- nutrition: string (nullable = true)\n",
      " |-- n_steps: integer (nullable = true)\n",
      " |-- steps: string (nullable = true)\n",
      " |-- description: string (nullable = true)\n",
      " |-- ingredients: string (nullable = true)\n",
      " |-- n_ingredients: integer (nullable = true)\n",
      " |-- calories: float (nullable = true)\n",
      " |-- total_fat_PDV: float (nullable = true)\n",
      " |-- sugar_PDV: float (nullable = true)\n",
      " |-- sodium_PDV: float (nullable = true)\n",
      " |-- protein_PDV: float (nullable = true)\n",
      " |-- saturated_fat_PDV: float (nullable = true)\n",
      " |-- carbohydrates_PDV: float (nullable = true)\n",
      " |-- total_fat_per_100_cal: double (nullable = false)\n",
      " |-- sugar_per_100_cal: double (nullable = false)\n",
      " |-- sodium_per_100_cal: double (nullable = false)\n",
      " |-- protein_per_100_cal: double (nullable = false)\n",
      " |-- saturated_fat_per_100_cal: double (nullable = false)\n",
      " |-- carbohydrates_per_100_cal: double (nullable = false)"
     ]
    }
   ],
   "source": [
    "recipe_raw_df.printSchema()"
   ]
  },
  {
   "cell_type": "code",
   "execution_count": 30,
   "id": "156c840f",
   "metadata": {
    "colab": {
     "referenced_widgets": [
      "ebd710d8fc394407b67c4b32274f961f",
      ""
     ]
    },
    "execution": {
     "iopub.execute_input": "2023-01-07T18:16:58.377555Z",
     "iopub.status.busy": "2023-01-07T18:16:58.377287Z",
     "iopub.status.idle": "2023-01-07T18:17:25.869668Z",
     "shell.execute_reply": "2023-01-07T18:17:25.868705Z",
     "shell.execute_reply.started": "2023-01-07T18:16:58.377523Z"
    },
    "id": "156c840f",
    "outputId": "55b21bb2-9aea-41d4-8643-a7827189cd0c"
   },
   "outputs": [
    {
     "data": {
      "application/vnd.jupyter.widget-view+json": {
       "model_id": "d4f8a02abcf742d1a687c3cce8e8a7ec",
       "version_major": 2,
       "version_minor": 0
      },
      "text/plain": [
       "VBox()"
      ]
     },
     "metadata": {},
     "output_type": "display_data"
    },
    {
     "data": {
      "application/vnd.jupyter.widget-view+json": {
       "model_id": "",
       "version_major": 2,
       "version_minor": 0
      },
      "text/plain": [
       "FloatProgress(value=0.0, bar_style='info', description='Progress:', layout=Layout(height='25px', width='50%'),…"
      ]
     },
     "metadata": {},
     "output_type": "display_data"
    }
   ],
   "source": [
    "# Code check cell\n",
    "# Do not edit cells with assert commands\n",
    "# If an error is shown after running this cell, please recheck your code.  \n",
    "\n",
    "assert recipe_raw_df.schema[\"tags\"].dataType == ArrayType(StringType(), True), \"You have not split the string into an array.\"\n",
    "assert recipe_raw_df.collect()[2][5] == ['time-to-make','course', 'preparation', 'main-dish', 'chili', 'crock-pot-slow-cooker', 'dietary', 'equipment', '4-hours-or-less'], \"Recheck your string cleaning and splitting operations.\""
   ]
  },
  {
   "cell_type": "code",
   "execution_count": 31,
   "id": "03c0a9c3",
   "metadata": {
    "colab": {
     "referenced_widgets": [
      "40d10d16c00d4187bc6433b9893ede8c",
      ""
     ]
    },
    "execution": {
     "iopub.execute_input": "2023-01-07T18:17:27.876680Z",
     "iopub.status.busy": "2023-01-07T18:17:27.876401Z",
     "iopub.status.idle": "2023-01-07T18:17:27.955349Z",
     "shell.execute_reply": "2023-01-07T18:17:27.954436Z",
     "shell.execute_reply.started": "2023-01-07T18:17:27.876648Z"
    },
    "id": "03c0a9c3",
    "outputId": "71c85983-d19c-4c4c-fc00-ffa917d0a7e7"
   },
   "outputs": [
    {
     "data": {
      "application/vnd.jupyter.widget-view+json": {
       "model_id": "92ebd79081714ddb81081a760ccec855",
       "version_major": 2,
       "version_minor": 0
      },
      "text/plain": [
       "VBox()"
      ]
     },
     "metadata": {},
     "output_type": "display_data"
    },
    {
     "data": {
      "application/vnd.jupyter.widget-view+json": {
       "model_id": "",
       "version_major": 2,
       "version_minor": 0
      },
      "text/plain": [
       "FloatProgress(value=0.0, bar_style='info', description='Progress:', layout=Layout(height='25px', width='50%'),…"
      ]
     },
     "metadata": {},
     "output_type": "display_data"
    },
    {
     "name": "stdout",
     "output_type": "stream",
     "text": [
      "True"
     ]
    }
   ],
   "source": [
    "recipe_raw_df.schema[\"tags\"].dataType == ArrayType(StringType(), True)"
   ]
  },
  {
   "cell_type": "markdown",
   "id": "b7e2ae26",
   "metadata": {
    "id": "b7e2ae26"
   },
   "source": [
    "### Task 4 Validation Completed"
   ]
  },
  {
   "cell_type": "markdown",
   "id": "410faabe",
   "metadata": {
    "id": "410faabe"
   },
   "source": [
    "## Join Recipe Data to Review Data"
   ]
  },
  {
   "cell_type": "code",
   "execution_count": 32,
   "id": "1d16f9cd",
   "metadata": {
    "colab": {
     "referenced_widgets": [
      "4b152e34b418440a9eeba2d06dd1cff5",
      ""
     ]
    },
    "execution": {
     "iopub.execute_input": "2023-01-07T18:17:56.860886Z",
     "iopub.status.busy": "2023-01-07T18:17:56.860589Z",
     "iopub.status.idle": "2023-01-07T18:18:06.246175Z",
     "shell.execute_reply": "2023-01-07T18:18:06.245187Z",
     "shell.execute_reply.started": "2023-01-07T18:17:56.860851Z"
    },
    "id": "1d16f9cd",
    "outputId": "9fd791d0-b665-409f-839d-12d305152c7d"
   },
   "outputs": [
    {
     "data": {
      "application/vnd.jupyter.widget-view+json": {
       "model_id": "7deae7282c574e62b3844727fc40c17b",
       "version_major": 2,
       "version_minor": 0
      },
      "text/plain": [
       "VBox()"
      ]
     },
     "metadata": {},
     "output_type": "display_data"
    },
    {
     "data": {
      "application/vnd.jupyter.widget-view+json": {
       "model_id": "",
       "version_major": 2,
       "version_minor": 0
      },
      "text/plain": [
       "FloatProgress(value=0.0, bar_style='info', description='Progress:', layout=Layout(height='25px', width='50%'),…"
      ]
     },
     "metadata": {},
     "output_type": "display_data"
    }
   ],
   "source": [
    "# Reading the second data set. \n",
    "# keep this cell unedited\n",
    "\n",
    "ratings_raw_df = (spark_session.read.csv(\"s3a://raw-interactions-upgrad/RAW_interactions_cleaned.csv\", \n",
    "                                 header=True, \n",
    "                                 inferSchema= True)\n",
    "                  .withColumn(\"review_date\",  func.col(\"date\"))\n",
    "                  .drop(func.col(\"date\"))\n",
    "                  )"
   ]
  },
  {
   "cell_type": "code",
   "execution_count": 33,
   "id": "4fa49767",
   "metadata": {
    "colab": {
     "referenced_widgets": [
      "33b63e944bb14ee39bdb098902f647a5",
      ""
     ]
    },
    "execution": {
     "iopub.execute_input": "2023-01-07T18:18:09.323901Z",
     "iopub.status.busy": "2023-01-07T18:18:09.323639Z",
     "iopub.status.idle": "2023-01-07T18:18:09.397055Z",
     "shell.execute_reply": "2023-01-07T18:18:09.396191Z",
     "shell.execute_reply.started": "2023-01-07T18:18:09.323870Z"
    },
    "id": "4fa49767",
    "outputId": "75391ffc-2aeb-444b-aefb-93068c975b45"
   },
   "outputs": [
    {
     "data": {
      "application/vnd.jupyter.widget-view+json": {
       "model_id": "c6e999e27e6240a699fcc6ac2838b190",
       "version_major": 2,
       "version_minor": 0
      },
      "text/plain": [
       "VBox()"
      ]
     },
     "metadata": {},
     "output_type": "display_data"
    },
    {
     "data": {
      "application/vnd.jupyter.widget-view+json": {
       "model_id": "",
       "version_major": 2,
       "version_minor": 0
      },
      "text/plain": [
       "FloatProgress(value=0.0, bar_style='info', description='Progress:', layout=Layout(height='25px', width='50%'),…"
      ]
     },
     "metadata": {},
     "output_type": "display_data"
    },
    {
     "name": "stdout",
     "output_type": "stream",
     "text": [
      "root\n",
      " |-- user_id: integer (nullable = true)\n",
      " |-- recipe_id: integer (nullable = true)\n",
      " |-- rating: integer (nullable = true)\n",
      " |-- review: string (nullable = true)\n",
      " |-- review_date: string (nullable = true)"
     ]
    }
   ],
   "source": [
    "ratings_raw_df.printSchema()"
   ]
  },
  {
   "cell_type": "code",
   "execution_count": 34,
   "id": "14f7c104",
   "metadata": {
    "colab": {
     "referenced_widgets": [
      "9000f44ff355418289f1af34cee8eecd",
      ""
     ]
    },
    "execution": {
     "iopub.execute_input": "2023-01-07T18:18:11.649920Z",
     "iopub.status.busy": "2023-01-07T18:18:11.649532Z",
     "iopub.status.idle": "2023-01-07T18:18:15.033084Z",
     "shell.execute_reply": "2023-01-07T18:18:15.032290Z",
     "shell.execute_reply.started": "2023-01-07T18:18:11.649870Z"
    },
    "id": "14f7c104",
    "outputId": "4e72165c-e719-4663-8bc1-2d16f38c4909"
   },
   "outputs": [
    {
     "data": {
      "application/vnd.jupyter.widget-view+json": {
       "model_id": "3d5759167dd04410a9fd9755d62ba6b8",
       "version_major": 2,
       "version_minor": 0
      },
      "text/plain": [
       "VBox()"
      ]
     },
     "metadata": {},
     "output_type": "display_data"
    },
    {
     "data": {
      "application/vnd.jupyter.widget-view+json": {
       "model_id": "",
       "version_major": 2,
       "version_minor": 0
      },
      "text/plain": [
       "FloatProgress(value=0.0, bar_style='info', description='Progress:', layout=Layout(height='25px', width='50%'),…"
      ]
     },
     "metadata": {},
     "output_type": "display_data"
    }
   ],
   "source": [
    "# Code check cell\n",
    "# Do not edit cells with assert commands\n",
    "# If an error is shown after running this cell, please recheck your code.  \n",
    "\n",
    "assert ratings_raw_df.count() == 1132367, \"There is a mistake in reading the data.\"\n",
    "assert len(ratings_raw_df.columns) == 5, \"There is a mistake in reading the data.\""
   ]
  },
  {
   "cell_type": "code",
   "execution_count": 35,
   "id": "72ff47ae",
   "metadata": {
    "colab": {
     "referenced_widgets": [
      "10758bccab2045fa885d0d2c1de051d4",
      ""
     ]
    },
    "execution": {
     "iopub.execute_input": "2023-01-07T18:18:15.034445Z",
     "iopub.status.busy": "2023-01-07T18:18:15.034229Z",
     "iopub.status.idle": "2023-01-07T18:18:15.828633Z",
     "shell.execute_reply": "2023-01-07T18:18:15.827642Z",
     "shell.execute_reply.started": "2023-01-07T18:18:15.034416Z"
    },
    "id": "72ff47ae",
    "outputId": "3111c6af-5600-4a87-cf81-4bc7977b007c"
   },
   "outputs": [
    {
     "data": {
      "application/vnd.jupyter.widget-view+json": {
       "model_id": "11bf8e7a5e5f483e8117c61abb4dbe86",
       "version_major": 2,
       "version_minor": 0
      },
      "text/plain": [
       "VBox()"
      ]
     },
     "metadata": {},
     "output_type": "display_data"
    },
    {
     "data": {
      "application/vnd.jupyter.widget-view+json": {
       "model_id": "",
       "version_major": 2,
       "version_minor": 0
      },
      "text/plain": [
       "FloatProgress(value=0.0, bar_style='info', description='Progress:', layout=Layout(height='25px', width='50%'),…"
      ]
     },
     "metadata": {},
     "output_type": "display_data"
    },
    {
     "name": "stdout",
     "output_type": "stream",
     "text": [
      "+-------+---------+------+--------------------+-----------+\n",
      "|user_id|recipe_id|rating|              review|review_date|\n",
      "+-------+---------+------+--------------------+-----------+\n",
      "|  38094|    40893|     4|Great with a sala...| 2003-02-17|\n",
      "|1293707|    40893|     5|So simple  so del...| 2011-12-21|\n",
      "|   8937|    44394|     4|This worked very ...| 2002-12-01|\n",
      "| 126440|    85009|     5|I made the Mexica...| 2010-02-27|\n",
      "|  57222|    85009|     5|Made the cheddar ...| 2011-10-01|\n",
      "+-------+---------+------+--------------------+-----------+\n",
      "only showing top 5 rows"
     ]
    }
   ],
   "source": [
    "ratings_raw_df.show(5)"
   ]
  },
  {
   "cell_type": "markdown",
   "id": "b6774391",
   "metadata": {
    "id": "b6774391"
   },
   "source": [
    "## <font color = blue >  Task 05: Combine Recipe and Review Datasets  </font>"
   ]
  },
  {
   "cell_type": "markdown",
   "id": "60bf5129",
   "metadata": {
    "id": "60bf5129"
   },
   "source": [
    "1) Along with raw recipes data, we also have raw ratings data.\n",
    "\n",
    "2) The code to read the data is already written above. Your task is to join the raw ratings and raw recipes data.\n",
    "\n",
    "3) The resulting dataframe must have the same number of rows as in the raw ratings data.\n",
    "\n",
    "4) Join both the dataframes using the recipie IDs."
   ]
  },
  {
   "cell_type": "markdown",
   "id": "0df4de12",
   "metadata": {
    "id": "0df4de12"
   },
   "source": [
    "#### Calculation explanation\n",
    "\n",
    "1) There are 25 columns in the raw_recipes_df and five in the raw_ratings_df. So total columns in the combined dataframe 25 + 5 = 30\n",
    "\n",
    "2) The number of rows in the combined dataframe must be the same as the rows in the raw_ratings_df. So total rows in combined dataframe 1132367\n",
    "\n",
    "3) We have included some test cases given below. You can use them to check if you have completed the task correctly."
   ]
  },
  {
   "cell_type": "markdown",
   "id": "ae2acb6e",
   "metadata": {
    "id": "ae2acb6e"
   },
   "source": [
    "### Solution to Task 05"
   ]
  },
  {
   "cell_type": "code",
   "execution_count": 36,
   "id": "155f2ca9",
   "metadata": {
    "colab": {
     "referenced_widgets": [
      "47623086da3845be969ec38aeb5bbe7f",
      ""
     ]
    },
    "execution": {
     "iopub.execute_input": "2023-01-07T18:18:23.077758Z",
     "iopub.status.busy": "2023-01-07T18:18:23.077477Z",
     "iopub.status.idle": "2023-01-07T18:18:23.164777Z",
     "shell.execute_reply": "2023-01-07T18:18:23.163533Z",
     "shell.execute_reply.started": "2023-01-07T18:18:23.077726Z"
    },
    "id": "155f2ca9",
    "outputId": "62043998-62eb-45ef-cb30-5783e1239992"
   },
   "outputs": [
    {
     "data": {
      "application/vnd.jupyter.widget-view+json": {
       "model_id": "376a0c714bc84208ae08d039fc1160a0",
       "version_major": 2,
       "version_minor": 0
      },
      "text/plain": [
       "VBox()"
      ]
     },
     "metadata": {},
     "output_type": "display_data"
    },
    {
     "data": {
      "application/vnd.jupyter.widget-view+json": {
       "model_id": "",
       "version_major": 2,
       "version_minor": 0
      },
      "text/plain": [
       "FloatProgress(value=0.0, bar_style='info', description='Progress:', layout=Layout(height='25px', width='50%'),…"
      ]
     },
     "metadata": {},
     "output_type": "display_data"
    }
   ],
   "source": [
    "# Task 05 Cell 1 out of 1\n",
    "\n",
    "interaction_level_df = ratings_raw_df.join(recipe_raw_df,ratings_raw_df.recipe_id == recipe_raw_df.id,\"inner\")\n",
    "                                           # specify the join keys and type of join"
   ]
  },
  {
   "cell_type": "markdown",
   "id": "0958bf3f",
   "metadata": {
    "id": "0958bf3f"
   },
   "source": [
    "### Validation for Task 05"
   ]
  },
  {
   "cell_type": "code",
   "execution_count": 37,
   "id": "d66fac26",
   "metadata": {
    "colab": {
     "referenced_widgets": [
      "4785bbc67280422fbee3baa11cc23057",
      ""
     ]
    },
    "execution": {
     "iopub.execute_input": "2023-01-07T18:18:26.321790Z",
     "iopub.status.busy": "2023-01-07T18:18:26.321512Z",
     "iopub.status.idle": "2023-01-07T18:18:49.828658Z",
     "shell.execute_reply": "2023-01-07T18:18:49.827922Z",
     "shell.execute_reply.started": "2023-01-07T18:18:26.321758Z"
    },
    "id": "d66fac26",
    "outputId": "969cfd0e-4fb8-40aa-cd8a-370dc4f9f527"
   },
   "outputs": [
    {
     "data": {
      "application/vnd.jupyter.widget-view+json": {
       "model_id": "e9684907cbe54089a4d34dfe9e61c89f",
       "version_major": 2,
       "version_minor": 0
      },
      "text/plain": [
       "VBox()"
      ]
     },
     "metadata": {},
     "output_type": "display_data"
    },
    {
     "data": {
      "application/vnd.jupyter.widget-view+json": {
       "model_id": "",
       "version_major": 2,
       "version_minor": 0
      },
      "text/plain": [
       "FloatProgress(value=0.0, bar_style='info', description='Progress:', layout=Layout(height='25px', width='50%'),…"
      ]
     },
     "metadata": {},
     "output_type": "display_data"
    }
   ],
   "source": [
    "# Code check cell\n",
    "# Do not edit cells with assert commands\n",
    "# If an error is shown after running this cell, please recheck your code.  \n",
    "\n",
    "assert (interaction_level_df.count() ,len(interaction_level_df.columns)) == (1132367, 30), \"The type of join is incorrect\"\n",
    "\n",
    "list_1 = ratings_raw_df.select('recipe_id').collect()\n",
    "list_2 = recipe_raw_df.select('id').collect()\n",
    "exclusive_set = set(list_1)-set(list_2)\n",
    "\n",
    "assert len(exclusive_set) == 0, \"There is a mistake in reading one of the two data files.\""
   ]
  },
  {
   "cell_type": "code",
   "execution_count": 38,
   "id": "a4373ce7",
   "metadata": {
    "colab": {
     "referenced_widgets": [
      "5d1808af5a51457ab8e2f36d35d18eff",
      ""
     ]
    },
    "execution": {
     "iopub.execute_input": "2023-01-07T18:18:53.902712Z",
     "iopub.status.busy": "2023-01-07T18:18:53.902349Z",
     "iopub.status.idle": "2023-01-07T18:19:05.409561Z",
     "shell.execute_reply": "2023-01-07T18:19:05.381520Z",
     "shell.execute_reply.started": "2023-01-07T18:18:53.902677Z"
    },
    "id": "a4373ce7",
    "outputId": "75e8138e-1295-48a7-cdd5-576948300499"
   },
   "outputs": [
    {
     "data": {
      "application/vnd.jupyter.widget-view+json": {
       "model_id": "268bdfb15d9c4f539b688058b50ef457",
       "version_major": 2,
       "version_minor": 0
      },
      "text/plain": [
       "VBox()"
      ]
     },
     "metadata": {},
     "output_type": "display_data"
    },
    {
     "data": {
      "application/vnd.jupyter.widget-view+json": {
       "model_id": "",
       "version_major": 2,
       "version_minor": 0
      },
      "text/plain": [
       "FloatProgress(value=0.0, bar_style='info', description='Progress:', layout=Layout(height='25px', width='50%'),…"
      ]
     },
     "metadata": {},
     "output_type": "display_data"
    },
    {
     "name": "stdout",
     "output_type": "stream",
     "text": [
      "True"
     ]
    }
   ],
   "source": [
    "(interaction_level_df.count() ,len(interaction_level_df.columns)) == (1132367, 30)"
   ]
  },
  {
   "cell_type": "markdown",
   "id": "460ef418",
   "metadata": {
    "id": "460ef418"
   },
   "source": [
    "### Task 5 Validation Completed"
   ]
  },
  {
   "cell_type": "markdown",
   "id": "ba9a5b89",
   "metadata": {
    "id": "ba9a5b89"
   },
   "source": [
    "## <font color = blue >  Task 06: Time-Based Feature Engineering  </font>"
   ]
  },
  {
   "cell_type": "markdown",
   "id": "a4c7b564",
   "metadata": {
    "id": "a4c7b564"
   },
   "source": [
    "Currently, both the date columns, the submitted date, and the review date are in string forms.\n",
    "\n",
    "First convert the submitted and review_date to DateType()\n",
    "\n",
    "Use review date and submission date to derive new features:\n",
    "\n",
    "1. days_since_submission_on_review_date Number of days between the recipe submission and the current review.\n",
    "2. months_since_submission_on_review_date Number of months between the recipe submission and the current review.\n",
    "3. years_since_submission_on_review_dateNumber of years between the recipe submission and the current review."
   ]
  },
  {
   "cell_type": "markdown",
   "id": "16867c7a",
   "metadata": {
    "id": "16867c7a"
   },
   "source": [
    "#### Sample Calculation\n",
    "\n",
    "1) Recipe 40893 was submitted on 2002-09-21 User 38094 reviewed recipe 40893 on 2003-02-17\n",
    "\n",
    "2) days_since_submission_on_review_date number of calender days between 2002-09-21 and 2003-02-17 that is 149\n",
    "\n",
    "3) months_since_submission_on_review_date number of calender months between 2002-09-21 and 2003-02-17 that is 4.87 (calculated by a pyspark function)\n",
    "\n",
    "4) years_since_submission_on_review_date number of calender months divided by 12 that is 0.40"
   ]
  },
  {
   "cell_type": "markdown",
   "id": "0437da95",
   "metadata": {
    "id": "0437da95"
   },
   "source": [
    "### Solution to Task 06 "
   ]
  },
  {
   "cell_type": "code",
   "execution_count": 39,
   "id": "4e6bc707",
   "metadata": {
    "colab": {
     "referenced_widgets": [
      "055243470cea48a69c4ec5e120999e4a",
      ""
     ]
    },
    "execution": {
     "iopub.execute_input": "2023-01-07T18:19:31.967599Z",
     "iopub.status.busy": "2023-01-07T18:19:31.967330Z",
     "iopub.status.idle": "2023-01-07T18:19:32.247702Z",
     "shell.execute_reply": "2023-01-07T18:19:32.246949Z",
     "shell.execute_reply.started": "2023-01-07T18:19:31.967566Z"
    },
    "id": "4e6bc707",
    "outputId": "b0df1176-4057-4f17-c62c-a703496a5df1"
   },
   "outputs": [
    {
     "data": {
      "application/vnd.jupyter.widget-view+json": {
       "model_id": "e6a9ded5568b424a982dfce020322330",
       "version_major": 2,
       "version_minor": 0
      },
      "text/plain": [
       "VBox()"
      ]
     },
     "metadata": {},
     "output_type": "display_data"
    },
    {
     "data": {
      "application/vnd.jupyter.widget-view+json": {
       "model_id": "",
       "version_major": 2,
       "version_minor": 0
      },
      "text/plain": [
       "FloatProgress(value=0.0, bar_style='info', description='Progress:', layout=Layout(height='25px', width='50%'),…"
      ]
     },
     "metadata": {},
     "output_type": "display_data"
    }
   ],
   "source": [
    "# Task 06 Cell 1 out of 2\n",
    "\n",
    "interaction_level_df = (interaction_level_df\n",
    "                        .withColumn('submitted',func.to_date(func.col(\"submitted\")).cast(\"date\") # pyspark function to cast a column to DateType()\n",
    "                                   )\n",
    "                        .withColumn('review_date',func.to_date(func.col(\"review_date\")).cast(\"date\") # pyspark function to cast a column to DateType()\n",
    "                                   )\n",
    "                                             \n",
    "                       )"
   ]
  },
  {
   "cell_type": "code",
   "execution_count": 40,
   "id": "466e19e9",
   "metadata": {
    "colab": {
     "referenced_widgets": [
      "6172907fd4304f08a0ba12b911aa0c64",
      ""
     ]
    },
    "execution": {
     "iopub.execute_input": "2023-01-07T18:19:34.109154Z",
     "iopub.status.busy": "2023-01-07T18:19:34.108890Z",
     "iopub.status.idle": "2023-01-07T18:19:34.517797Z",
     "shell.execute_reply": "2023-01-07T18:19:34.516944Z",
     "shell.execute_reply.started": "2023-01-07T18:19:34.109122Z"
    },
    "id": "466e19e9",
    "outputId": "802b9613-3ac7-4274-e2dc-a198b250d934"
   },
   "outputs": [
    {
     "data": {
      "application/vnd.jupyter.widget-view+json": {
       "model_id": "af2d3812e06148ff9268e06cd1e9df8f",
       "version_major": 2,
       "version_minor": 0
      },
      "text/plain": [
       "VBox()"
      ]
     },
     "metadata": {},
     "output_type": "display_data"
    },
    {
     "data": {
      "application/vnd.jupyter.widget-view+json": {
       "model_id": "",
       "version_major": 2,
       "version_minor": 0
      },
      "text/plain": [
       "FloatProgress(value=0.0, bar_style='info', description='Progress:', layout=Layout(height='25px', width='50%'),…"
      ]
     },
     "metadata": {},
     "output_type": "display_data"
    }
   ],
   "source": [
    "interaction_level_df = (interaction_level_df\n",
    "                        .withColumn('days_since_submission',func.datediff(\"review_date\",\"submitted\")\n",
    "                                     # Pyspark function to find the number of days between two dates              \n",
    "                                   )\n",
    "                        .withColumn('months_since_submission',func.months_between(\"review_date\",\"submitted\")\n",
    "                                     # Pyspark function to find the number of months between two dates          \n",
    "                                   )\n",
    "                        .withColumn('years_since_submission',func.months_between(\"review_date\",\"submitted\")/12\n",
    "                                     # Pyspark function to find the number of months between two dates / 12          \n",
    "                                   )\n",
    "                         )"
   ]
  },
  {
   "cell_type": "markdown",
   "id": "54611880",
   "metadata": {
    "id": "54611880"
   },
   "source": [
    "### Validation for Task 06"
   ]
  },
  {
   "cell_type": "code",
   "execution_count": 41,
   "id": "de44f5b8",
   "metadata": {
    "colab": {
     "referenced_widgets": [
      "19116129407f45c0b33495a4dcc73a23",
      ""
     ]
    },
    "execution": {
     "iopub.execute_input": "2023-01-07T18:19:36.144641Z",
     "iopub.status.busy": "2023-01-07T18:19:36.144223Z",
     "iopub.status.idle": "2023-01-07T18:20:09.812812Z",
     "shell.execute_reply": "2023-01-07T18:20:09.811774Z",
     "shell.execute_reply.started": "2023-01-07T18:19:36.144587Z"
    },
    "id": "de44f5b8",
    "outputId": "0f009e5f-da06-44f2-e2ee-316b6b23b0a7"
   },
   "outputs": [
    {
     "data": {
      "application/vnd.jupyter.widget-view+json": {
       "model_id": "ff47301e6a174bf8907b436b459743ec",
       "version_major": 2,
       "version_minor": 0
      },
      "text/plain": [
       "VBox()"
      ]
     },
     "metadata": {},
     "output_type": "display_data"
    },
    {
     "data": {
      "application/vnd.jupyter.widget-view+json": {
       "model_id": "",
       "version_major": 2,
       "version_minor": 0
      },
      "text/plain": [
       "FloatProgress(value=0.0, bar_style='info', description='Progress:', layout=Layout(height='25px', width='50%'),…"
      ]
     },
     "metadata": {},
     "output_type": "display_data"
    }
   ],
   "source": [
    "# Code check cell\n",
    "# Do not edit cells with assert commands\n",
    "# If an error is shown after running this cell, please recheck your code.  \n",
    "\n",
    "assert interaction_level_df.schema[\"days_since_submission\"].dataType == IntegerType()\n",
    "\n",
    "assert (interaction_level_df.filter((interaction_level_df.user_id == 428885) & (interaction_level_df.recipe_id == 335241))\n",
    "                            .select('days_since_submission').collect()[0][0]) == 77\n",
    "assert (interaction_level_df.filter((interaction_level_df.user_id == 2025676) & (interaction_level_df.recipe_id == 94265))\n",
    "                            .select('months_since_submission').collect()[0][0]) == 153.22580645\n",
    "assert (interaction_level_df.filter((interaction_level_df.user_id == 338588) & (interaction_level_df.recipe_id == 21859))\n",
    "                            .select('years_since_submission').collect()[0][0]) == 4.564516129166667"
   ]
  },
  {
   "cell_type": "code",
   "execution_count": 42,
   "id": "df6ce7f5",
   "metadata": {
    "colab": {
     "referenced_widgets": [
      "d9d53378564e453694faa6c470cac8c8",
      ""
     ]
    },
    "execution": {
     "iopub.execute_input": "2023-01-07T18:20:13.590466Z",
     "iopub.status.busy": "2023-01-07T18:20:13.590198Z",
     "iopub.status.idle": "2023-01-07T18:20:13.661758Z",
     "shell.execute_reply": "2023-01-07T18:20:13.660895Z",
     "shell.execute_reply.started": "2023-01-07T18:20:13.590434Z"
    },
    "id": "df6ce7f5",
    "outputId": "ce3350d4-c622-475a-f940-5f559c0967ec"
   },
   "outputs": [
    {
     "data": {
      "application/vnd.jupyter.widget-view+json": {
       "model_id": "49a51f74314e41bd9111e5fa003164f2",
       "version_major": 2,
       "version_minor": 0
      },
      "text/plain": [
       "VBox()"
      ]
     },
     "metadata": {},
     "output_type": "display_data"
    },
    {
     "data": {
      "application/vnd.jupyter.widget-view+json": {
       "model_id": "",
       "version_major": 2,
       "version_minor": 0
      },
      "text/plain": [
       "FloatProgress(value=0.0, bar_style='info', description='Progress:', layout=Layout(height='25px', width='50%'),…"
      ]
     },
     "metadata": {},
     "output_type": "display_data"
    },
    {
     "name": "stdout",
     "output_type": "stream",
     "text": [
      "True"
     ]
    }
   ],
   "source": [
    "interaction_level_df.schema[\"days_since_submission\"].dataType == IntegerType()"
   ]
  },
  {
   "cell_type": "code",
   "execution_count": 43,
   "id": "0b7d0d44",
   "metadata": {
    "colab": {
     "referenced_widgets": [
      "5d5a6de57e124cb8be23d54cf8ac8965",
      ""
     ]
    },
    "execution": {
     "iopub.execute_input": "2023-01-07T18:20:20.565366Z",
     "iopub.status.busy": "2023-01-07T18:20:20.565095Z",
     "iopub.status.idle": "2023-01-07T18:20:34.004936Z",
     "shell.execute_reply": "2023-01-07T18:20:34.003992Z",
     "shell.execute_reply.started": "2023-01-07T18:20:20.565334Z"
    },
    "id": "0b7d0d44",
    "outputId": "a2b72a1b-2371-447b-dd9b-f7b112e31940"
   },
   "outputs": [
    {
     "data": {
      "application/vnd.jupyter.widget-view+json": {
       "model_id": "ebe552eede894ff0800ab1eef4892237",
       "version_major": 2,
       "version_minor": 0
      },
      "text/plain": [
       "VBox()"
      ]
     },
     "metadata": {},
     "output_type": "display_data"
    },
    {
     "data": {
      "application/vnd.jupyter.widget-view+json": {
       "model_id": "",
       "version_major": 2,
       "version_minor": 0
      },
      "text/plain": [
       "FloatProgress(value=0.0, bar_style='info', description='Progress:', layout=Layout(height='25px', width='50%'),…"
      ]
     },
     "metadata": {},
     "output_type": "display_data"
    },
    {
     "name": "stdout",
     "output_type": "stream",
     "text": [
      "True"
     ]
    }
   ],
   "source": [
    "(interaction_level_df.filter((interaction_level_df.user_id == 428885) & (interaction_level_df.recipe_id == 335241))\n",
    "                            .select('days_since_submission').collect()[0][0]) == 77"
   ]
  },
  {
   "cell_type": "code",
   "execution_count": 44,
   "id": "f99f7130",
   "metadata": {
    "colab": {
     "referenced_widgets": [
      "590ec97b3eac4682bf8be52dfba93635",
      ""
     ]
    },
    "execution": {
     "iopub.execute_input": "2023-01-07T18:20:35.253468Z",
     "iopub.status.busy": "2023-01-07T18:20:35.253131Z",
     "iopub.status.idle": "2023-01-07T18:20:46.719194Z",
     "shell.execute_reply": "2023-01-07T18:20:46.718155Z",
     "shell.execute_reply.started": "2023-01-07T18:20:35.253415Z"
    },
    "id": "f99f7130",
    "outputId": "2bd5b2d5-3c73-4127-b984-93fdbcff361c"
   },
   "outputs": [
    {
     "data": {
      "application/vnd.jupyter.widget-view+json": {
       "model_id": "978654066efe40f2b2733df2256c8f16",
       "version_major": 2,
       "version_minor": 0
      },
      "text/plain": [
       "VBox()"
      ]
     },
     "metadata": {},
     "output_type": "display_data"
    },
    {
     "data": {
      "application/vnd.jupyter.widget-view+json": {
       "model_id": "",
       "version_major": 2,
       "version_minor": 0
      },
      "text/plain": [
       "FloatProgress(value=0.0, bar_style='info', description='Progress:', layout=Layout(height='25px', width='50%'),…"
      ]
     },
     "metadata": {},
     "output_type": "display_data"
    },
    {
     "name": "stdout",
     "output_type": "stream",
     "text": [
      "True"
     ]
    }
   ],
   "source": [
    "(interaction_level_df.filter((interaction_level_df.user_id == 2025676) & (interaction_level_df.recipe_id == 94265))\n",
    "                            .select('months_since_submission').collect()[0][0]) == 153.22580645"
   ]
  },
  {
   "cell_type": "code",
   "execution_count": 45,
   "id": "a2f00be0",
   "metadata": {
    "colab": {
     "referenced_widgets": [
      "2273d423e1f54945bfe50fe3e6bbe3c3",
      ""
     ]
    },
    "execution": {
     "iopub.execute_input": "2023-01-07T18:20:48.193336Z",
     "iopub.status.busy": "2023-01-07T18:20:48.193050Z",
     "iopub.status.idle": "2023-01-07T18:20:59.611721Z",
     "shell.execute_reply": "2023-01-07T18:20:59.610710Z",
     "shell.execute_reply.started": "2023-01-07T18:20:48.193285Z"
    },
    "id": "a2f00be0",
    "outputId": "ef555fd4-7e4d-4005-92cb-15e3cfda6af2"
   },
   "outputs": [
    {
     "data": {
      "application/vnd.jupyter.widget-view+json": {
       "model_id": "d2da967072e04c76bbe6d5f53b2b41a0",
       "version_major": 2,
       "version_minor": 0
      },
      "text/plain": [
       "VBox()"
      ]
     },
     "metadata": {},
     "output_type": "display_data"
    },
    {
     "data": {
      "application/vnd.jupyter.widget-view+json": {
       "model_id": "",
       "version_major": 2,
       "version_minor": 0
      },
      "text/plain": [
       "FloatProgress(value=0.0, bar_style='info', description='Progress:', layout=Layout(height='25px', width='50%'),…"
      ]
     },
     "metadata": {},
     "output_type": "display_data"
    },
    {
     "name": "stdout",
     "output_type": "stream",
     "text": [
      "True"
     ]
    }
   ],
   "source": [
    "(interaction_level_df.filter((interaction_level_df.user_id == 338588) & (interaction_level_df.recipe_id == 21859))\n",
    "                            .select('years_since_submission').collect()[0][0]) == 4.564516129166667"
   ]
  },
  {
   "cell_type": "markdown",
   "id": "b6803a7e",
   "metadata": {
    "id": "b6803a7e"
   },
   "source": [
    "### Task 6 Validation Completed"
   ]
  },
  {
   "cell_type": "markdown",
   "id": "e02d9987",
   "metadata": {
    "id": "e02d9987"
   },
   "source": [
    "## <font color = RED >  Save the data we have created so far in a parquet file  </font>"
   ]
  },
  {
   "cell_type": "code",
   "execution_count": 46,
   "id": "0316b525",
   "metadata": {
    "colab": {
     "referenced_widgets": [
      "14ef1c82031145e5ae3ad43f00ce92ba",
      ""
     ]
    },
    "execution": {
     "iopub.execute_input": "2023-01-07T18:21:03.158622Z",
     "iopub.status.busy": "2023-01-07T18:21:03.158191Z",
     "iopub.status.idle": "2023-01-07T18:21:03.285703Z",
     "shell.execute_reply": "2023-01-07T18:21:03.284637Z",
     "shell.execute_reply.started": "2023-01-07T18:21:03.158568Z"
    },
    "id": "0316b525",
    "outputId": "e41f5693-0b6c-41de-b5a8-f59ae7bf8d9c"
   },
   "outputs": [
    {
     "data": {
      "application/vnd.jupyter.widget-view+json": {
       "model_id": "01accff874b74fccbbbd68125ef48361",
       "version_major": 2,
       "version_minor": 0
      },
      "text/plain": [
       "VBox()"
      ]
     },
     "metadata": {},
     "output_type": "display_data"
    },
    {
     "data": {
      "application/vnd.jupyter.widget-view+json": {
       "model_id": "",
       "version_major": 2,
       "version_minor": 0
      },
      "text/plain": [
       "FloatProgress(value=0.0, bar_style='info', description='Progress:', layout=Layout(height='25px', width='50%'),…"
      ]
     },
     "metadata": {},
     "output_type": "display_data"
    },
    {
     "name": "stdout",
     "output_type": "stream",
     "text": [
      "root\n",
      " |-- user_id: integer (nullable = true)\n",
      " |-- recipe_id: integer (nullable = true)\n",
      " |-- rating: integer (nullable = true)\n",
      " |-- review: string (nullable = true)\n",
      " |-- review_date: date (nullable = true)\n",
      " |-- name: string (nullable = true)\n",
      " |-- id: integer (nullable = true)\n",
      " |-- minutes: integer (nullable = true)\n",
      " |-- contributor_id: integer (nullable = true)\n",
      " |-- submitted: date (nullable = true)\n",
      " |-- tags: array (nullable = true)\n",
      " |    |-- element: string (containsNull = true)\n",
      " |-- nutrition: string (nullable = true)\n",
      " |-- n_steps: integer (nullable = true)\n",
      " |-- steps: string (nullable = true)\n",
      " |-- description: string (nullable = true)\n",
      " |-- ingredients: string (nullable = true)\n",
      " |-- n_ingredients: integer (nullable = true)\n",
      " |-- calories: float (nullable = true)\n",
      " |-- total_fat_PDV: float (nullable = true)\n",
      " |-- sugar_PDV: float (nullable = true)\n",
      " |-- sodium_PDV: float (nullable = true)\n",
      " |-- protein_PDV: float (nullable = true)\n",
      " |-- saturated_fat_PDV: float (nullable = true)\n",
      " |-- carbohydrates_PDV: float (nullable = true)\n",
      " |-- total_fat_per_100_cal: double (nullable = false)\n",
      " |-- sugar_per_100_cal: double (nullable = false)\n",
      " |-- sodium_per_100_cal: double (nullable = false)\n",
      " |-- protein_per_100_cal: double (nullable = false)\n",
      " |-- saturated_fat_per_100_cal: double (nullable = false)\n",
      " |-- carbohydrates_per_100_cal: double (nullable = false)\n",
      " |-- days_since_submission: integer (nullable = true)\n",
      " |-- months_since_submission: double (nullable = true)\n",
      " |-- years_since_submission: double (nullable = true)\n",
      " |-- days_since_submission_on_review_date: integer (nullable = true)\n",
      " |-- months_since_submission_on_review_date: double (nullable = true)\n",
      " |-- years_since_submission_on_review_date: double (nullable = true)"
     ]
    }
   ],
   "source": [
    "interaction_level_df.printSchema()"
   ]
  },
  {
   "cell_type": "code",
   "execution_count": 47,
   "id": "39c686b1",
   "metadata": {
    "colab": {
     "referenced_widgets": [
      "dedeb8e413f742588a8ad6100649bda1",
      ""
     ]
    },
    "execution": {
     "iopub.execute_input": "2023-01-07T18:21:10.401056Z",
     "iopub.status.busy": "2023-01-07T18:21:10.400569Z",
     "iopub.status.idle": "2023-01-07T18:21:19.808868Z",
     "shell.execute_reply": "2023-01-07T18:21:19.808054Z",
     "shell.execute_reply.started": "2023-01-07T18:21:10.401022Z"
    },
    "id": "39c686b1",
    "outputId": "bf28e8c7-e817-4f65-9c0f-6afd7c67af6d"
   },
   "outputs": [
    {
     "data": {
      "application/vnd.jupyter.widget-view+json": {
       "model_id": "65256f84e78b421daf9915c5c9ba1757",
       "version_major": 2,
       "version_minor": 0
      },
      "text/plain": [
       "VBox()"
      ]
     },
     "metadata": {},
     "output_type": "display_data"
    },
    {
     "data": {
      "application/vnd.jupyter.widget-view+json": {
       "model_id": "",
       "version_major": 2,
       "version_minor": 0
      },
      "text/plain": [
       "FloatProgress(value=0.0, bar_style='info', description='Progress:', layout=Layout(height='25px', width='50%'),…"
      ]
     },
     "metadata": {},
     "output_type": "display_data"
    },
    {
     "name": "stdout",
     "output_type": "stream",
     "text": [
      "True"
     ]
    }
   ],
   "source": [
    "assert (interaction_level_df.count() ,len(interaction_level_df.columns) ) == (1132367, 33)"
   ]
  },
  {
   "cell_type": "code",
   "execution_count": 48,
   "id": "5e77124e",
   "metadata": {
    "colab": {
     "referenced_widgets": [
      "ff3c4c6d8e0b4edf959da075bb911140",
      ""
     ]
    },
    "execution": {
     "iopub.execute_input": "2023-01-07T18:21:21.703618Z",
     "iopub.status.busy": "2023-01-07T18:21:21.703198Z",
     "iopub.status.idle": "2023-01-07T18:21:31.145013Z",
     "shell.execute_reply": "2023-01-07T18:21:31.144073Z",
     "shell.execute_reply.started": "2023-01-07T18:21:21.703566Z"
    },
    "id": "5e77124e",
    "outputId": "7601c965-29a0-4f6d-878a-c236a40b4ef9"
   },
   "outputs": [
    {
     "data": {
      "application/vnd.jupyter.widget-view+json": {
       "model_id": "46b1481066d14e0c8c3d62b0adf9e7ef",
       "version_major": 2,
       "version_minor": 0
      },
      "text/plain": [
       "VBox()"
      ]
     },
     "metadata": {},
     "output_type": "display_data"
    },
    {
     "data": {
      "application/vnd.jupyter.widget-view+json": {
       "model_id": "",
       "version_major": 2,
       "version_minor": 0
      },
      "text/plain": [
       "FloatProgress(value=0.0, bar_style='info', description='Progress:', layout=Layout(height='25px', width='50%'),…"
      ]
     },
     "metadata": {},
     "output_type": "display_data"
    },
    {
     "name": "stdout",
     "output_type": "stream",
     "text": [
      "True"
     ]
    }
   ],
   "source": [
    "(interaction_level_df.count() ,len(interaction_level_df.columns) ) == (1132367, 33)"
   ]
  },
  {
   "cell_type": "code",
   "execution_count": 49,
   "id": "3f37afcc",
   "metadata": {
    "colab": {
     "referenced_widgets": [
      "a31753a90801408495f28ba209d99cfe",
      ""
     ]
    },
    "execution": {
     "iopub.execute_input": "2023-01-07T18:21:32.656479Z",
     "iopub.status.busy": "2023-01-07T18:21:32.642764Z",
     "iopub.status.idle": "2023-01-07T18:22:22.353914Z",
     "shell.execute_reply": "2023-01-07T18:22:22.352984Z",
     "shell.execute_reply.started": "2023-01-07T18:21:32.656422Z"
    },
    "id": "3f37afcc",
    "outputId": "059ef062-168c-4bb0-f111-850b815031eb"
   },
   "outputs": [
    {
     "data": {
      "application/vnd.jupyter.widget-view+json": {
       "model_id": "4f003020bcc84333aba38b7f2395afb4",
       "version_major": 2,
       "version_minor": 0
      },
      "text/plain": [
       "VBox()"
      ]
     },
     "metadata": {},
     "output_type": "display_data"
    },
    {
     "data": {
      "application/vnd.jupyter.widget-view+json": {
       "model_id": "",
       "version_major": 2,
       "version_minor": 0
      },
      "text/plain": [
       "FloatProgress(value=0.0, bar_style='info', description='Progress:', layout=Layout(height='25px', width='50%'),…"
      ]
     },
     "metadata": {},
     "output_type": "display_data"
    }
   ],
   "source": [
    "## Write the raw_recipes_df\n",
    "## create a folder named data in you current directry before running this. \n",
    "\n",
    "from pyspark.sql import SparkSession\n",
    "interaction_level_df.write.parquet(\"interaction_level_df_BDA\") # Modify the path as you need"
   ]
  },
  {
   "cell_type": "code",
   "execution_count": 50,
   "id": "2f477916",
   "metadata": {
    "colab": {
     "referenced_widgets": [
      "191fdfa334f841dd9bec56daf033a13e",
      ""
     ]
    },
    "execution": {
     "iopub.execute_input": "2023-01-07T18:22:24.406423Z",
     "iopub.status.busy": "2023-01-07T18:22:24.404643Z",
     "iopub.status.idle": "2023-01-07T18:22:49.900689Z",
     "shell.execute_reply": "2023-01-07T18:22:49.899744Z",
     "shell.execute_reply.started": "2023-01-07T18:22:24.406387Z"
    },
    "id": "2f477916",
    "outputId": "01e7dc1a-2695-421d-8646-adabf3089774"
   },
   "outputs": [
    {
     "data": {
      "application/vnd.jupyter.widget-view+json": {
       "model_id": "8d1145395e644b5abe217c8c75334bec",
       "version_major": 2,
       "version_minor": 0
      },
      "text/plain": [
       "VBox()"
      ]
     },
     "metadata": {},
     "output_type": "display_data"
    },
    {
     "data": {
      "application/vnd.jupyter.widget-view+json": {
       "model_id": "",
       "version_major": 2,
       "version_minor": 0
      },
      "text/plain": [
       "FloatProgress(value=0.0, bar_style='info', description='Progress:', layout=Layout(height='25px', width='50%'),…"
      ]
     },
     "metadata": {},
     "output_type": "display_data"
    },
    {
     "name": "stdout",
     "output_type": "stream",
     "text": [
      "+-------+---------+------+--------------------+-----------+--------------------+---+-------+--------------+----------+--------------------+--------------------+-------+--------------------+--------------------+--------------------+-------------+--------+-------------+---------+----------+-----------+-----------------+-----------------+---------------------+-------------------+------------------+-------------------+-------------------------+-------------------------+------------------------------------+--------------------------------------+-------------------------------------+\n",
      "|user_id|recipe_id|rating|              review|review_date|                name| id|minutes|contributor_id| submitted|                tags|           nutrition|n_steps|               steps|         description|         ingredients|n_ingredients|calories|total_fat_PDV|sugar_PDV|sodium_PDV|protein_PDV|saturated_fat_PDV|carbohydrates_PDV|total_fat_per_100_cal|  sugar_per_100_cal|sodium_per_100_cal|protein_per_100_cal|saturated_fat_per_100_cal|carbohydrates_per_100_cal|days_since_submission|months_since_submission|years_since_submission|years_since_submission_on_review_date_bucket|prep_time_bucket|n_steps_bucket|n_ingredients_bucket|calories_bucket|total_fat_PDV_bucket|sugar_PDV_bucket|sodium_PDV_bucket|protein_PDV_bucket|saturated_fat_PDV_bucket|carbohydrates_PDV_bucket|total_fat_per_100_cal_bucket|sugar_per_100_cal_bucket|sodium_per_100_cal_bucket|protein_per_100_cal_bucket|saturated_fat_per_100_cal_bucket|carbohydrates_per_100_cal_bucket|ind_5_rating|years_since_submission_on_review_date_5_ratings|minutes_5_ratings|n_steps_5_ratings|n_ingredients_5_ratings|user_n_5_ratings|user_avg_years_betwn_review_and_submission_5_ratings|user_avg_prep_time_recipes_reviewed_5_ratings|user_avg_n_steps_recipes_reviewed_5_ratings|user_avg_n_ingredients_recipes_reviewed_5_ratings|calories_5_ratings|user_avg_calories_recipes_reviewed_5_ratings|user_avg_total_fat_per_100_cal_recipes_reviewed_5_ratings|user_avg_sugar_per_100_cal_recipes_reviewed_5_ratings|user_avg_sodium_per_100_cal_recipes_reviewed_5_ratings|user_avg_protein_per_100_cal_recipes_reviewed_5_ratings|user_avg_saturated_fat_per_100_cal_recipes_reviewed_5_ratings|user_avg_carbohydrates_per_100_cal_recipes_reviewed_5_ratings|\n",
      "+-------+---------+------+--------------------+-----------+--------------------+---+-------+--------------+----------+--------------------+--------------------+-------+--------------------+--------------------+--------------------+-------------+--------+-------------+---------+----------+-----------+-----------------+-----------------+---------------------+-------------------+------------------+-------------------+-------------------------+-------------------------+------------------------------------+--------------------------------------+-------------------------------------+--------------------------------------------+----------------+---------------+--------------------+-------------+------------------------+----------------+------------------------------------------------------+-----------------------------------------------------+----------------------------------------------+---------------------------------------------------+------------------+---------------------------------------------------+--------------------------------------------------------+-------------------------------------------------------+----------------------------------------------------------+----------------------------------------------------+-----------------------------------------------------------+--------------------------------------------------------+\n",
      "| 269153|       81|     5|This is FANTASTIC...| 2006-03-09|all purpose quick...| 81|     40|        125579|1999-09-10|[60-minutes-or-le...|529.3, 37.0, 1.0,...|     36|['blend flours , ...|--adopted recipe-...|['whole wheat flo...|            5|   529.3|         37.0|      1.0|      36.0|       22.0|             73.0|             23.0|   6.9903647937494835|0.18892877820944548|6.8014360155400375|  4.156433120607801|       13.791800809289521|        4.345361898817246|                                2372|                           77.96774194|                    6.497311828333333|                                6.0|             5.0|            6.0|                 0.0|           4.0|               0.0|              0.0|                 0.0|              0.0|                          0.0|                         0.0|                          7.0|                          0.0|                         7.0|                         0.0|                               0.0|                                     0.0|           1|                                               6.497311828333333|               40.0|              36.0|                      5.0|                           1|                                               6.497311828333333|                                             40.0|                                           36.0|                                                5.0|             529.3|                                    529.3|                                       6.9903647937494835|                                      0.18892877820944548|                                        6.8014360155400375|                                       4.156433120607801|                                    13.791800809289521|                                        4.345361898817246|\n",
      "| 985729|       81|     5|I have made sever...| 2010-05-23|all purpose quick...| 81|     40|        125579|1999-09-10|[60-minutes-or-le...|529.3, 37.0, 1.0,...|     36|['blend flours , ...|--adopted recipe-...|['whole wheat flo...|            5|   529.3|         37.0|      1.0|      36.0|       22.0|             73.0|             23.0|   6.9903647937494835|0.18892877820944548|6.8014360155400375|  4.156433120607801|       13.791800809289521|        4.345361898817246|                                3908|                          128.41935484|                   10.701612903333334|                                        10.0|             5.0|            6.0|                 0.0|           4.0|               0.0|              0.0|                 0.0|              0.0|                          0.0|                         0.0|                          7.0|                          0.0|                         7.0|                         0.0|                               0.0|                                     0.0|           1|                                              10.701612903333334|               40.0|              36.0|                      5.0|                           2|                                              10.701612903333334|                                             40.0|                                           36.0|                                                5.0|             529.3|                                    529.3|                                       6.9903647937494835|                                      0.18892877820944548|                                        6.8014360155400375|                                       4.156433120607801|                                    13.791800809289521|                                        4.345361898817246|\n",
      "+-------+---------+------+--------------------+-----------+--------------------+----+-------+--------------+----------+--------------------+--------------------+-------+--------------------+-----------+--------------------+-------------+--------+-------------+---------+----------+-----------+-----------------+-----------------+---------------------+-------------------+------------------+-------------------+-------------------------+-------------------------+------------------------------------+--------------------------------------+-------------------------------------+--------------------------------------------+----------------+---------------+--------------------+-------------+------------------------+----------------+------------------------------------------------------+-----------------------------------------------------+----------------------------------------------+---------------------------------------------------+------------------+---------------------------------------------------+--------------------------------------------------------+-------------------------------------------------------+----------------------------------------------------------+----------------------------------------------------+-----------------------------------------------------------+--------------------------------------------------------+\n",
      "only showing top 2 rows"
     ]
    }
   ],
   "source": [
    "interaction_level_df.show(5)"
   ]
  },
  {
   "cell_type": "markdown",
   "id": "f86941ba",
   "metadata": {
    "id": "f86941ba"
   },
   "source": [
    "### ###################01_FeatureExtractionPart01 Completed##################"
   ]
  },
  {
   "cell_type": "markdown",
   "id": "e17ec6ca",
   "metadata": {
    "id": "e17ec6ca"
   },
   "source": [
    "# <font color = Black >  02_EDA-Complete_Solution  </font>"
   ]
  },
  {
   "cell_type": "markdown",
   "id": "13eefac1",
   "metadata": {
    "id": "13eefac1"
   },
   "source": [
    "## <font color = BLUE >  Initial Setup  </font>"
   ]
  },
  {
   "cell_type": "code",
   "execution_count": 51,
   "id": "bdf5c563",
   "metadata": {
    "colab": {
     "referenced_widgets": [
      "74e2bcbfc3764e1f84ab7bc5199773fa",
      ""
     ]
    },
    "execution": {
     "iopub.execute_input": "2023-01-07T18:22:53.747780Z",
     "iopub.status.busy": "2023-01-07T18:22:53.747499Z",
     "iopub.status.idle": "2023-01-07T18:22:53.821449Z",
     "shell.execute_reply": "2023-01-07T18:22:53.820580Z",
     "shell.execute_reply.started": "2023-01-07T18:22:53.747749Z"
    },
    "id": "bdf5c563",
    "outputId": "703152af-38c2-4c5a-b370-bce5e144476d"
   },
   "outputs": [
    {
     "data": {
      "application/vnd.jupyter.widget-view+json": {
       "model_id": "d2d1d0c315b34b37ba4df6455e8febf7",
       "version_major": 2,
       "version_minor": 0
      },
      "text/plain": [
       "VBox()"
      ]
     },
     "metadata": {},
     "output_type": "display_data"
    },
    {
     "data": {
      "application/vnd.jupyter.widget-view+json": {
       "model_id": "",
       "version_major": 2,
       "version_minor": 0
      },
      "text/plain": [
       "FloatProgress(value=0.0, bar_style='info', description='Progress:', layout=Layout(height='25px', width='50%'),…"
      ]
     },
     "metadata": {},
     "output_type": "display_data"
    }
   ],
   "source": [
    "from pyspark.sql import SparkSession"
   ]
  },
  {
   "cell_type": "code",
   "execution_count": 52,
   "id": "ee8e13e8",
   "metadata": {
    "colab": {
     "referenced_widgets": [
      "ad715e09613d45539199b39dd91892ef",
      ""
     ]
    },
    "execution": {
     "iopub.execute_input": "2023-01-07T18:22:55.818393Z",
     "iopub.status.busy": "2023-01-07T18:22:55.818023Z",
     "iopub.status.idle": "2023-01-07T18:22:55.946254Z",
     "shell.execute_reply": "2023-01-07T18:22:55.945200Z",
     "shell.execute_reply.started": "2023-01-07T18:22:55.818345Z"
    },
    "id": "ee8e13e8",
    "outputId": "633867ba-25e1-46c4-fe83-ffdc3a221951"
   },
   "outputs": [
    {
     "data": {
      "application/vnd.jupyter.widget-view+json": {
       "model_id": "2e1793111a1b4896a21889d102864782",
       "version_major": 2,
       "version_minor": 0
      },
      "text/plain": [
       "VBox()"
      ]
     },
     "metadata": {},
     "output_type": "display_data"
    },
    {
     "data": {
      "application/vnd.jupyter.widget-view+json": {
       "model_id": "",
       "version_major": 2,
       "version_minor": 0
      },
      "text/plain": [
       "FloatProgress(value=0.0, bar_style='info', description='Progress:', layout=Layout(height='25px', width='50%'),…"
      ]
     },
     "metadata": {},
     "output_type": "display_data"
    }
   ],
   "source": [
    "from pyspark.sql import SparkSession\n",
    "spark_session = SparkSession.builder.appName(\"Basics\").getOrCreate()"
   ]
  },
  {
   "cell_type": "code",
   "execution_count": 53,
   "id": "a26da5f3",
   "metadata": {
    "colab": {
     "referenced_widgets": [
      "41c377fc79594ffd95ced0b5973aad5c",
      ""
     ]
    },
    "execution": {
     "iopub.execute_input": "2023-01-07T18:22:57.430786Z",
     "iopub.status.busy": "2023-01-07T18:22:57.430501Z",
     "iopub.status.idle": "2023-01-07T18:22:57.502319Z",
     "shell.execute_reply": "2023-01-07T18:22:57.501305Z",
     "shell.execute_reply.started": "2023-01-07T18:22:57.430753Z"
    },
    "id": "a26da5f3",
    "outputId": "7ff5ca9d-ca81-43d1-b1b4-8906af6abbdf"
   },
   "outputs": [
    {
     "data": {
      "application/vnd.jupyter.widget-view+json": {
       "model_id": "7659dd7be7e44c31a7f5742eaa403a37",
       "version_major": 2,
       "version_minor": 0
      },
      "text/plain": [
       "VBox()"
      ]
     },
     "metadata": {},
     "output_type": "display_data"
    },
    {
     "data": {
      "application/vnd.jupyter.widget-view+json": {
       "model_id": "",
       "version_major": 2,
       "version_minor": 0
      },
      "text/plain": [
       "FloatProgress(value=0.0, bar_style='info', description='Progress:', layout=Layout(height='25px', width='50%'),…"
      ]
     },
     "metadata": {},
     "output_type": "display_data"
    },
    {
     "name": "stdout",
     "output_type": "stream",
     "text": [
      "<pyspark.sql.session.SparkSession object at 0x7f157d63dd90>"
     ]
    }
   ],
   "source": [
    "spark_session"
   ]
  },
  {
   "cell_type": "code",
   "execution_count": 54,
   "id": "fff6bf6e",
   "metadata": {
    "colab": {
     "referenced_widgets": [
      "80829f1d23da477e9b6ca8e87402f58b",
      ""
     ]
    },
    "execution": {
     "iopub.execute_input": "2023-01-07T18:23:00.137831Z",
     "iopub.status.busy": "2023-01-07T18:23:00.137548Z",
     "iopub.status.idle": "2023-01-07T18:24:40.029376Z",
     "shell.execute_reply": "2023-01-07T18:24:40.028303Z",
     "shell.execute_reply.started": "2023-01-07T18:23:00.137799Z"
    },
    "id": "fff6bf6e",
    "outputId": "5159ad13-e18a-4dcd-a3e7-05624f819c1a"
   },
   "outputs": [
    {
     "data": {
      "application/vnd.jupyter.widget-view+json": {
       "model_id": "3c528c7408dc41de9ecff8e11c86250e",
       "version_major": 2,
       "version_minor": 0
      },
      "text/plain": [
       "VBox()"
      ]
     },
     "metadata": {},
     "output_type": "display_data"
    },
    {
     "data": {
      "application/vnd.jupyter.widget-view+json": {
       "model_id": "",
       "version_major": 2,
       "version_minor": 0
      },
      "text/plain": [
       "FloatProgress(value=0.0, bar_style='info', description='Progress:', layout=Layout(height='25px', width='50%'),…"
      ]
     },
     "metadata": {},
     "output_type": "display_data"
    },
    {
     "name": "stdout",
     "output_type": "stream",
     "text": [
      "Collecting plotly==5.5.0\n",
      "  Downloading https://files.pythonhosted.org/packages/b3/f4/23d4a698db9fe772f7fdf40ac17b743c4b0d80274732c59db5bd45acb3be/plotly-5.5.0-py2.py3-none-any.whl (26.5MB)\n",
      "Collecting tenacity>=6.2.0 (from plotly==5.5.0)\n",
      "  Downloading https://files.pythonhosted.org/packages/e7/b0/c23bd61e1b32c9b96fbca996c87784e196a812da8d621d8d04851f6c8181/tenacity-8.2.2-py3-none-any.whl\n",
      "Requirement already satisfied: six in /usr/local/lib/python3.7/site-packages (from plotly==5.5.0)\n",
      "Installing collected packages: tenacity, plotly\n",
      "Successfully installed plotly-5.5.0 tenacity-8.2.2\n",
      "\n",
      "Collecting pandas==0.25.1\n",
      "  Downloading https://files.pythonhosted.org/packages/7e/ab/ea76361f9d3e732e114adcd801d2820d5319c23d0ac5482fa3b412db217e/pandas-0.25.1-cp37-cp37m-manylinux1_x86_64.whl (10.4MB)\n",
      "Requirement already satisfied: numpy>=1.13.3 in /usr/local/lib64/python3.7/site-packages (from pandas==0.25.1)\n",
      "Collecting python-dateutil>=2.6.1 (from pandas==0.25.1)\n",
      "  Downloading https://files.pythonhosted.org/packages/36/7a/87837f39d0296e723bb9b62bbb257d0355c7f6128853c78955f57342a56d/python_dateutil-2.8.2-py2.py3-none-any.whl (247kB)\n",
      "Requirement already satisfied: pytz>=2017.2 in /usr/local/lib/python3.7/site-packages (from pandas==0.25.1)\n",
      "Requirement already satisfied: six>=1.5 in /usr/local/lib/python3.7/site-packages (from python-dateutil>=2.6.1->pandas==0.25.1)\n",
      "Installing collected packages: python-dateutil, pandas\n",
      "Successfully installed pandas-0.25.1 python-dateutil-2.8.2\n",
      "\n",
      "Collecting numpy==1.14.5\n",
      "  Downloading https://files.pythonhosted.org/packages/3f/e7/7f24ef402a5766c677683e313c5595137d754cb9eb1c99627803280e79d5/numpy-1.14.5-cp37-cp37m-manylinux1_x86_64.whl (12.2MB)\n",
      "Installing collected packages: numpy\n",
      "  Found existing installation: numpy 1.20.0\n",
      "    Not uninstalling numpy at /usr/local/lib64/python3.7/site-packages, outside environment /mnt/yarn/usercache/livy/appcache/application_1678790214970_0002/container_1678790214970_0002_01_000001/tmp/1678790710198-0\n",
      "Successfully installed numpy-1.14.5\n",
      "\n",
      "Collecting matplotlib==3.1.1\n",
      "  Downloading https://files.pythonhosted.org/packages/19/7a/60bd79c5d79559150f8bba866dd7d434f0a170312e4d15e8aefa5faba294/matplotlib-3.1.1-cp37-cp37m-manylinux1_x86_64.whl (13.1MB)\n",
      "Collecting pyparsing!=2.0.4,!=2.1.2,!=2.1.6,>=2.0.1 (from matplotlib==3.1.1)\n",
      "  Downloading https://files.pythonhosted.org/packages/6c/10/a7d0fa5baea8fe7b50f448ab742f26f52b80bfca85ac2be9d35cdd9a3246/pyparsing-3.0.9-py3-none-any.whl (98kB)\n",
      "Requirement already satisfied: python-dateutil>=2.1 in ./tmp/1678790710198-0/lib/python3.7/site-packages (from matplotlib==3.1.1)\n",
      "Requirement already satisfied: numpy>=1.11 in ./tmp/1678790710198-0/lib/python3.7/site-packages (from matplotlib==3.1.1)\n",
      "Collecting cycler>=0.10 (from matplotlib==3.1.1)\n",
      "  Downloading https://files.pythonhosted.org/packages/5c/f9/695d6bedebd747e5eb0fe8fad57b72fdf25411273a39791cde838d5a8f51/cycler-0.11.0-py3-none-any.whl\n",
      "Collecting kiwisolver>=1.0.1 (from matplotlib==3.1.1)\n",
      "  Downloading https://files.pythonhosted.org/packages/ab/8f/8dbe2d4efc4c0b08ec67d6efb7cc31fbfd688c80afad85f65980633b0d37/kiwisolver-1.4.4-cp37-cp37m-manylinux_2_5_x86_64.manylinux1_x86_64.whl (1.1MB)\n",
      "Requirement already satisfied: six>=1.5 in /usr/local/lib/python3.7/site-packages (from python-dateutil>=2.1->matplotlib==3.1.1)\n",
      "Collecting typing-extensions; python_version < \"3.8\" (from kiwisolver>=1.0.1->matplotlib==3.1.1)\n",
      "  Downloading https://files.pythonhosted.org/packages/31/25/5abcd82372d3d4a3932e1fa8c3dbf9efac10cc7c0d16e78467460571b404/typing_extensions-4.5.0-py3-none-any.whl\n",
      "Installing collected packages: pyparsing, cycler, typing-extensions, kiwisolver, matplotlib\n",
      "Successfully installed cycler-0.11.0 kiwisolver-1.4.4 matplotlib-3.1.1 pyparsing-3.0.9 typing-extensions-4.5.0\n",
      "\n",
      "The directory '/home/.cache/pip/http' or its parent directory is not owned by the current user and the cache has been disabled. Please check the permissions and owner of that directory. If executing pip with sudo, you may want sudo's -H flag.\n",
      "The directory '/home/.cache/pip' or its parent directory is not owned by the current user and caching wheels has been disabled. check the permissions and owner of that directory. If executing pip with sudo, you may want sudo's -H flag.\n",
      "You are using pip version 9.0.1, however version 23.0.1 is available.\n",
      "You should consider upgrading via the 'pip install --upgrade pip' command.\n",
      "\n",
      "The directory '/home/.cache/pip/http' or its parent directory is not owned by the current user and the cache has been disabled. Please check the permissions and owner of that directory. If executing pip with sudo, you may want sudo's -H flag.\n",
      "The directory '/home/.cache/pip' or its parent directory is not owned by the current user and caching wheels has been disabled. check the permissions and owner of that directory. If executing pip with sudo, you may want sudo's -H flag.\n",
      "You are using pip version 9.0.1, however version 23.0.1 is available.\n",
      "You should consider upgrading via the 'pip install --upgrade pip' command.\n",
      "\n",
      "The directory '/home/.cache/pip/http' or its parent directory is not owned by the current user and the cache has been disabled. Please check the permissions and owner of that directory. If executing pip with sudo, you may want sudo's -H flag.\n",
      "The directory '/home/.cache/pip' or its parent directory is not owned by the current user and caching wheels has been disabled. check the permissions and owner of that directory. If executing pip with sudo, you may want sudo's -H flag.\n",
      "You are using pip version 9.0.1, however version 23.0.1 is available.\n",
      "You should consider upgrading via the 'pip install --upgrade pip' command.\n",
      "\n",
      "The directory '/home/.cache/pip/http' or its parent directory is not owned by the current user and the cache has been disabled. Please check the permissions and owner of that directory. If executing pip with sudo, you may want sudo's -H flag.\n",
      "The directory '/home/.cache/pip' or its parent directory is not owned by the current user and caching wheels has been disabled. check the permissions and owner of that directory. If executing pip with sudo, you may want sudo's -H flag.\n",
      "You are using pip version 9.0.1, however version 23.0.1 is available.\n",
      "You should consider upgrading via the 'pip install --upgrade pip' command."
     ]
    }
   ],
   "source": [
    "# Run this everytime you create a new spark instance. \n",
    "\n",
    "spark_session.sparkContext.install_pypi_package(\"plotly==5.5.0\")\n",
    "spark_session.sparkContext.install_pypi_package(\"pandas==0.25.1\")\n",
    "spark_session.sparkContext.install_pypi_package(\"numpy==1.14.5\")\n",
    "spark_session.sparkContext.install_pypi_package(\"matplotlib==3.1.1\")"
   ]
  },
  {
   "cell_type": "code",
   "execution_count": 55,
   "id": "1529ba34",
   "metadata": {
    "colab": {
     "referenced_widgets": [
      "5b5a477e8c984f25920305ba8e83e886",
      ""
     ]
    },
    "execution": {
     "iopub.execute_input": "2023-01-07T18:24:46.316458Z",
     "iopub.status.busy": "2023-01-07T18:24:46.316182Z",
     "iopub.status.idle": "2023-01-07T18:24:49.643127Z",
     "shell.execute_reply": "2023-01-07T18:24:49.642084Z",
     "shell.execute_reply.started": "2023-01-07T18:24:46.316426Z"
    },
    "id": "1529ba34",
    "outputId": "54cc02fe-fafd-4a07-e26a-a2342ca18fc8"
   },
   "outputs": [
    {
     "data": {
      "application/vnd.jupyter.widget-view+json": {
       "model_id": "de9378d93ecb49eda5b68a6ec86c798f",
       "version_major": 2,
       "version_minor": 0
      },
      "text/plain": [
       "VBox()"
      ]
     },
     "metadata": {},
     "output_type": "display_data"
    },
    {
     "data": {
      "application/vnd.jupyter.widget-view+json": {
       "model_id": "",
       "version_major": 2,
       "version_minor": 0
      },
      "text/plain": [
       "FloatProgress(value=0.0, bar_style='info', description='Progress:', layout=Layout(height='25px', width='50%'),…"
      ]
     },
     "metadata": {},
     "output_type": "display_data"
    }
   ],
   "source": [
    "from pyspark.sql import functions as func\n",
    "from pyspark.ml.feature import Bucketizer\n",
    "\n",
    "import matplotlib.pyplot as plt\n",
    "import pandas as pd\n",
    "import numpy as np\n",
    "\n",
    "# Import for typecasting columns\n",
    "from pyspark.sql.types import IntegerType,BooleanType,DateType,FloatType,StringType\n",
    "from pyspark.sql.types import ArrayType"
   ]
  },
  {
   "cell_type": "markdown",
   "id": "fcbf57cc",
   "metadata": {
    "id": "fcbf57cc"
   },
   "source": [
    "## <font color = BLUE >  Defining Custom Functions  </font>"
   ]
  },
  {
   "cell_type": "code",
   "execution_count": 56,
   "id": "4d1f3522",
   "metadata": {
    "colab": {
     "referenced_widgets": [
      "d067b6cb18904e84965b86147bbcec84",
      ""
     ]
    },
    "execution": {
     "iopub.execute_input": "2023-01-07T18:24:52.526539Z",
     "iopub.status.busy": "2023-01-07T18:24:52.526215Z",
     "iopub.status.idle": "2023-01-07T18:24:52.603054Z",
     "shell.execute_reply": "2023-01-07T18:24:52.602112Z",
     "shell.execute_reply.started": "2023-01-07T18:24:52.526485Z"
    },
    "id": "4d1f3522",
    "outputId": "fdfad08d-6937-408c-9259-7d680dc15416"
   },
   "outputs": [
    {
     "data": {
      "application/vnd.jupyter.widget-view+json": {
       "model_id": "a70e84eb2a904b23b8f93acde76406d9",
       "version_major": 2,
       "version_minor": 0
      },
      "text/plain": [
       "VBox()"
      ]
     },
     "metadata": {},
     "output_type": "display_data"
    },
    {
     "data": {
      "application/vnd.jupyter.widget-view+json": {
       "model_id": "",
       "version_major": 2,
       "version_minor": 0
      },
      "text/plain": [
       "FloatProgress(value=0.0, bar_style='info', description='Progress:', layout=Layout(height='25px', width='50%'),…"
      ]
     },
     "metadata": {},
     "output_type": "display_data"
    }
   ],
   "source": [
    "def get_quantiles(df, column_name, quantiles_list = [0.01, 0.25, 0.5, 0.75, 0.99]):\n",
    "    \"\"\"\n",
    "    Takes a numerical column and returns column values at requested quantiles\n",
    "\n",
    "    Inputs \n",
    "    Argument 1: Dataframe\n",
    "    Argument 2: Name of the column\n",
    "    Argument 3: A list of quantiles you want to find. Default value [0.01, 0.25, 0.5, 0.75, 0.99]\n",
    "\n",
    "    Output \n",
    "    Returns a dictionary with quantiles as keys and column quantile values as values \n",
    "    \"\"\"\n",
    "    # Get min, max and quantile values for given column\n",
    "    min_val = df.agg(func.min(column_name)).first()[0]\n",
    "    max_val = df.agg(func.max(column_name)).first()[0]\n",
    "    quantiles_vals = df.approxQuantile(column_name,\n",
    "                                       quantiles_list,\n",
    "                                       0)\n",
    "  \n",
    "    # Store min, quantiles and max in output dict, sequentially\n",
    "    quantiles_dict = {0.0:min_val}\n",
    "    quantiles_dict.update(dict(zip(quantiles_list, quantiles_vals)))\n",
    "    quantiles_dict.update({1.0:max_val})\n",
    "    return(quantiles_dict)"
   ]
  },
  {
   "cell_type": "code",
   "execution_count": 57,
   "id": "32be0b8c",
   "metadata": {
    "colab": {
     "referenced_widgets": [
      "288a0607a5ac4818b5d8709fb419efff",
      ""
     ]
    },
    "execution": {
     "iopub.execute_input": "2023-01-07T18:24:57.448662Z",
     "iopub.status.busy": "2023-01-07T18:24:57.448351Z",
     "iopub.status.idle": "2023-01-07T18:24:57.550052Z",
     "shell.execute_reply": "2023-01-07T18:24:57.549266Z",
     "shell.execute_reply.started": "2023-01-07T18:24:57.448628Z"
    },
    "id": "32be0b8c",
    "outputId": "e1432eed-f840-4d7f-a0be-d0491e63ad26"
   },
   "outputs": [
    {
     "data": {
      "application/vnd.jupyter.widget-view+json": {
       "model_id": "1e05920a3ee24808bc4109af4dde5792",
       "version_major": 2,
       "version_minor": 0
      },
      "text/plain": [
       "VBox()"
      ]
     },
     "metadata": {},
     "output_type": "display_data"
    },
    {
     "data": {
      "application/vnd.jupyter.widget-view+json": {
       "model_id": "",
       "version_major": 2,
       "version_minor": 0
      },
      "text/plain": [
       "FloatProgress(value=0.0, bar_style='info', description='Progress:', layout=Layout(height='25px', width='50%'),…"
      ]
     },
     "metadata": {},
     "output_type": "display_data"
    }
   ],
   "source": [
    "def plot_bucketwise_statistics (summary, bucketizer):\n",
    "    \"\"\"\n",
    "    Takes in a dataframe and a bucketizer object and plots the summary statistics for each bucket in the dataframe. \n",
    "  \n",
    "    Inputs\n",
    "    Argument 1: Pandas dataframe obtained from bucket_col_print_summary function \n",
    "    Argument 2: Bucketizer object obtained from bucket_col_print_summary function\n",
    "  \n",
    "    Output\n",
    "    Displays a plot of bucketwise average ratings nunber of ratings of a parameter.   \n",
    "    \"\"\"\n",
    "    # Creating bucket labels from splits\n",
    "    classlist = bucketizer.getSplits()\n",
    "    number_of_classes = len(classlist) - 1\n",
    "\n",
    "    class_labels = []\n",
    "    hover_labels = []\n",
    "    for i in range (number_of_classes):\n",
    "        hover_labels.append(str(classlist[i])+\"-\"+str(classlist[i+1]) +\" (Bucket name: \"+ str(int(i)) +\")\"  )\n",
    "        class_labels.append(str(classlist[i])+\"-\"+str(classlist[i+1]) )\n",
    "  \n",
    "    summary[\"Scaled_number\"] = (summary[\"n_ratings\"]-summary[\"n_ratings\"].min())/(summary[\"n_ratings\"].max()-summary[\"n_ratings\"].min()) + 1.5\n",
    "    summary['Bucket_Names'] = class_labels\n",
    "  \n",
    "    # making plot\n",
    "    x = summary[\"Bucket_Names\"]\n",
    "    y1 = summary[\"avg_rating\"]\n",
    "    y2 = summary[\"n_ratings\"]\n",
    "    error = summary[\"stddev_rating\"]  \n",
    "\n",
    "    # Plot scatter here\n",
    "    plt.rcParams[\"figure.figsize\"] = [summary.shape[0]+2, 6.0]\n",
    "    plt.rcParams[\"figure.autolayout\"] = True\n",
    "    figure, axis1 = plt.subplots()\n",
    "\n",
    "    bar = axis1.bar(x, y1, color = \"#262261\")\n",
    "    axis1.errorbar(x, y1, yerr=error, fmt=\"o\", color=\"#EE4036\")\n",
    "    axis1.set(ylim=(0, 7))\n",
    "  \n",
    "    #axis1.bar_label(bar , fmt='%.2f', label_type='edge')  \n",
    "    def barlabel(x_list,y_list):\n",
    "        for i in range(len(x_list)):\n",
    "            axis1.text(i,y_list[i] + 0.2,y_list[i], ha = 'center',\n",
    "  \t\t\t         fontdict=dict(size=10),\n",
    "  \t\t\t         bbox=dict(facecolor='#262261', alpha=0.2)         \n",
    "  \t\t\t        )\n",
    "    barlabel(summary[\"Bucket_Names\"].tolist() ,summary[\"avg_rating\"].round(2).tolist())\n",
    "  \n",
    "    axis2 = axis1.twinx()\n",
    "    axis2.scatter(x, y2, s=summary[\"Scaled_number\"]*500, c = '#FAAF40')  \n",
    "    axis2.set(ylim=(0, summary[\"n_ratings\"].max()*1.15))\n",
    "    def scatterlabel(x_list,y_list):\n",
    "  \t    for i in range(len(x_list)):\n",
    "  \t\t    axis2.text(i,y_list[i] + 15000,y_list[i], ha = 'center',\n",
    "  \t\t\t\t\t fontdict=dict(size=10),\n",
    "                     bbox=dict(facecolor='#FAAF40', alpha=0.5)\n",
    "  \t\t\t\t\t)\n",
    "    scatterlabel(summary[\"Bucket_Names\"].tolist() ,summary[\"n_ratings\"].tolist())\n",
    "  \n",
    "    # giving labels to the axises\n",
    "    axis1.set_xlabel(bucketizer.getOutputCol(), fontdict=dict(size=14)) \n",
    "    axis1.set_ylabel(\"Average Ratings\",fontdict=dict(size=14))\n",
    "  \n",
    "    # secondary y-axis label\n",
    "    axis2.set_ylabel('Number of Ratings',fontdict=dict(size=14))\n",
    "  \n",
    "    #plot Title\n",
    "    plt.title('Bucketwise average ratings and number of ratings for \\n'+bucketizer.getInputCol(), \n",
    "              fontdict=dict(size=14))  "
   ]
  },
  {
   "cell_type": "code",
   "execution_count": 58,
   "id": "0075f12c",
   "metadata": {
    "colab": {
     "referenced_widgets": [
      "99cd244724af467aa6b25b2195c59ef0",
      ""
     ]
    },
    "execution": {
     "iopub.execute_input": "2023-01-07T18:25:05.029130Z",
     "iopub.status.busy": "2023-01-07T18:25:05.028783Z",
     "iopub.status.idle": "2023-01-07T18:25:05.104448Z",
     "shell.execute_reply": "2023-01-07T18:25:05.103748Z",
     "shell.execute_reply.started": "2023-01-07T18:25:05.029096Z"
    },
    "id": "0075f12c",
    "outputId": "d1a3422f-4854-47e2-c917-7f9c177d2121"
   },
   "outputs": [
    {
     "data": {
      "application/vnd.jupyter.widget-view+json": {
       "model_id": "580fe0e6fe56454e969f00ed7a8c56f0",
       "version_major": 2,
       "version_minor": 0
      },
      "text/plain": [
       "VBox()"
      ]
     },
     "metadata": {},
     "output_type": "display_data"
    },
    {
     "data": {
      "application/vnd.jupyter.widget-view+json": {
       "model_id": "",
       "version_major": 2,
       "version_minor": 0
      },
      "text/plain": [
       "FloatProgress(value=0.0, bar_style='info', description='Progress:', layout=Layout(height='25px', width='50%'),…"
      ]
     },
     "metadata": {},
     "output_type": "display_data"
    }
   ],
   "source": [
    "def bucket_col_print_summary(df, splits, inputCol, outputCol):\n",
    "    \"\"\"\n",
    "    Given a numerical column in a data frame, adds a bucketized version of the column to the data frame, according to splits provided.\n",
    "    Also prints a summary of ratings seen in each bucket made.\n",
    "\n",
    "    Inputs \n",
    "    Argument 1: Data Frame \n",
    "    Argument 2: Values at which the column will be split\n",
    "    Argument 3: Name of the input column (numerical column)\n",
    "    Argument 4: Name of the output column (bucketized numerical column)\n",
    "\n",
    "    Output: \n",
    "    1) New dataframe with the output column added\n",
    "    2) Bucketizer object trained from the input column \n",
    "    3) Pandas dataframe with summary statistics for ratings seen in buckets of the output column\n",
    "    Also plots summary statistics for ratings seen in buckets of the output column\n",
    "    \"\"\"\n",
    "\n",
    "    # Dropping bucket if it already exists\n",
    "    if outputCol in df.columns:\n",
    "        df = df.drop(outputCol)\n",
    "\n",
    "    # Training bucketizer\n",
    "    bucketizer_transformation = Bucketizer(splits = splits,\n",
    "                            inputCol  = inputCol,\n",
    "                            outputCol = outputCol)\n",
    "    \n",
    "    df = bucketizer_transformation.setHandleInvalid(\"keep\").transform(df)\n",
    "\n",
    "    # Printing meta information on buckets created\n",
    "    print(\"Added bucketized column {}\".format(outputCol))\n",
    "    print(\"\")\n",
    "    print(\"Bucketing done for split definition: {}\".format(splits))\n",
    "    print(\"\")  \n",
    "    print(\"Printing summary statistics for ratings in buckets below:\")\n",
    "\n",
    "    # Creating a summary statistics dataframe and passing it to the plotting function\n",
    "    summary =  (df\n",
    "                .groupBy(outputCol)\n",
    "                .agg(func.avg('rating').alias('avg_rating'),\n",
    "                     func.stddev('rating').alias('stddev_rating'),\n",
    "                     func.count('rating').alias('n_ratings'))\n",
    "                .sort(outputCol)\n",
    "                .toPandas())\n",
    "  \n",
    "    plot_bucketwise_statistics(summary,bucketizer_transformation)\n",
    "  \n",
    "    return df, bucketizer_transformation, summary"
   ]
  },
  {
   "cell_type": "code",
   "execution_count": 59,
   "id": "0f166698",
   "metadata": {
    "colab": {
     "referenced_widgets": [
      "4916a58e39d748dc862e4faa8ded903c",
      ""
     ]
    },
    "execution": {
     "iopub.execute_input": "2023-01-07T18:25:10.690235Z",
     "iopub.status.busy": "2023-01-07T18:25:10.689950Z",
     "iopub.status.idle": "2023-01-07T18:25:10.763304Z",
     "shell.execute_reply": "2023-01-07T18:25:10.762457Z",
     "shell.execute_reply.started": "2023-01-07T18:25:10.690203Z"
    },
    "id": "0f166698",
    "outputId": "386fd9ba-bb27-49b8-9142-fa5a247c23dc"
   },
   "outputs": [
    {
     "data": {
      "application/vnd.jupyter.widget-view+json": {
       "model_id": "a71c91f67bb4435ebe8527472ed5563c",
       "version_major": 2,
       "version_minor": 0
      },
      "text/plain": [
       "VBox()"
      ]
     },
     "metadata": {},
     "output_type": "display_data"
    },
    {
     "data": {
      "application/vnd.jupyter.widget-view+json": {
       "model_id": "",
       "version_major": 2,
       "version_minor": 0
      },
      "text/plain": [
       "FloatProgress(value=0.0, bar_style='info', description='Progress:', layout=Layout(height='25px', width='50%'),…"
      ]
     },
     "metadata": {},
     "output_type": "display_data"
    }
   ],
   "source": [
    "def get_column_distribution_summary(df, col_name):\n",
    "    \"\"\"\n",
    "    Takes a column in a data frame and prints the summary statistics (average, standard deviation, count and distinct count) for all unique values in that column.\n",
    "  \n",
    "    Inputs \n",
    "    Argument 1: Dataframe \n",
    "    Argument 2: Name of the column\n",
    "  \n",
    "    Output\n",
    "    Returns nothing \n",
    "    Prints a Dataframe with summary statistics\n",
    "    \"\"\"\n",
    "    print(df\n",
    "          .groupBy(col_name)\n",
    "          .agg(func.avg('rating').alias('avg_rating'),\n",
    "               func.stddev('rating').alias('stddev_rating'),\n",
    "               func.count('rating').alias('n_ratings'),\n",
    "               func.countDistinct('id').alias('n_recipes'))\n",
    "          .sort(func.col(col_name).asc())\n",
    "          .show(50))"
   ]
  },
  {
   "cell_type": "code",
   "execution_count": 60,
   "id": "f4cc0014",
   "metadata": {
    "colab": {
     "referenced_widgets": [
      "17fd9a74b5bb425d8eb21bdd402a62fd",
      ""
     ]
    },
    "execution": {
     "iopub.execute_input": "2023-01-07T18:25:12.485228Z",
     "iopub.status.busy": "2023-01-07T18:25:12.484941Z",
     "iopub.status.idle": "2023-01-07T18:25:12.558964Z",
     "shell.execute_reply": "2023-01-07T18:25:12.558128Z",
     "shell.execute_reply.started": "2023-01-07T18:25:12.485195Z"
    },
    "id": "f4cc0014",
    "outputId": "d526bd30-1b83-4313-e317-4ac9c0758969"
   },
   "outputs": [
    {
     "data": {
      "application/vnd.jupyter.widget-view+json": {
       "model_id": "4c228bbc5e514b11bf4ac295f679cd56",
       "version_major": 2,
       "version_minor": 0
      },
      "text/plain": [
       "VBox()"
      ]
     },
     "metadata": {},
     "output_type": "display_data"
    },
    {
     "data": {
      "application/vnd.jupyter.widget-view+json": {
       "model_id": "",
       "version_major": 2,
       "version_minor": 0
      },
      "text/plain": [
       "FloatProgress(value=0.0, bar_style='info', description='Progress:', layout=Layout(height='25px', width='50%'),…"
      ]
     },
     "metadata": {},
     "output_type": "display_data"
    },
    {
     "name": "stdout",
     "output_type": "stream",
     "text": [
      "+-------+---------+------+--------------------+-----------+--------------------+---+-------+--------------+----------+--------------------+--------------------+-------+--------------------+--------------------+--------------------+-------------+--------+-------------+---------+----------+-----------+-----------------+-----------------+---------------------+-------------------+------------------+-------------------+-------------------------+-------------------------+------------------------------------+--------------------------------------+-------------------------------------+\n",
      "|user_id|recipe_id|rating|              review|review_date|                name| id|minutes|contributor_id| submitted|                tags|           nutrition|n_steps|               steps|         description|         ingredients|n_ingredients|calories|total_fat_PDV|sugar_PDV|sodium_PDV|protein_PDV|saturated_fat_PDV|carbohydrates_PDV|total_fat_per_100_cal|  sugar_per_100_cal|sodium_per_100_cal|protein_per_100_cal|saturated_fat_per_100_cal|carbohydrates_per_100_cal|days_since_submission|months_since_submission|years_since_submission|years_since_submission_on_review_date_bucket|prep_time_bucket|n_steps_bucket|n_ingredients_bucket|calories_bucket|total_fat_PDV_bucket|sugar_PDV_bucket|sodium_PDV_bucket|protein_PDV_bucket|saturated_fat_PDV_bucket|carbohydrates_PDV_bucket|total_fat_per_100_cal_bucket|sugar_per_100_cal_bucket|sodium_per_100_cal_bucket|protein_per_100_cal_bucket|saturated_fat_per_100_cal_bucket|carbohydrates_per_100_cal_bucket|\n",
      "+-------+---------+------+--------------------+-----------+--------------------+---+-------+--------------+----------+--------------------+--------------------+-------+--------------------+--------------------+--------------------+-------------+--------+-------------+---------+----------+-----------+-----------------+-----------------+---------------------+-------------------+------------------+-------------------+-------------------------+-------------------------+------------------------------------+--------------------------------------+-------------------------------------+--------------------------------------------+----------------+---------------+--------------------+-------------+------------------------+----------------+------------------------------------------------------+-----------------------------------------------------+----------------------------------------------+---------------------------------------------------+------------------+---------------------------------------------------+--------------------------------------------------------+-------------------------------------------------------+----------------------------------------------------------+----------------------------------------------------+-----------------------------------------------------------+--------------------------------------------------------+\n",
      "| 269153|       81|     5|This is FANTASTIC...| 2006-03-09|all purpose quick...| 81|     40|        125579|1999-09-10|['60-minutes-or-le...|529.3, 37.0, 1.0,...|     36|['blend flours , ...|--adopted recipe-...|['whole wheat flo...|            5|   529.3|         37.0|      1.0|      36.0|       22.0|             73.0|             23.0|   6.9903647937494835|0.18892877820944548|6.8014360155400375|  4.156433120607801|       13.791800809289521|        4.345361898817246|                                2372|                           77.96774194|                    6.497311828333333|                                6.0|             5.0|            6.0|                 0.0|           4.0|               0.0|              0.0|                 0.0|              0.0|                          0.0|                         0.0|                          7.0|                          0.0|                         7.0|                         0.0|                               0.0|                                     0.0|           1|                                               6.497311828333333|               40.0|              36.0|                      5.0|                           1|                                               6.497311828333333|                                             40.0|                                           36.0|                                                5.0|             529.3|                                    529.3|                                       6.9903647937494835|                                      0.18892877820944548|                                        6.8014360155400375|                                       4.156433120607801|                                    13.791800809289521|                                        4.345361898817246|\n",
      "| 985729|       81|     5|I have made sever...| 2010-05-23|all purpose quick...| 81|     40|        125579|1999-09-10|[60-minutes-or-le...|529.3, 37.0, 1.0,...|     36|['blend flours , ...|--adopted recipe-...|['whole wheat flo...|            5|   529.3|         37.0|      1.0|      36.0|       22.0|             73.0|             23.0|   6.9903647937494835|0.18892877820944548|6.8014360155400375|  4.156433120607801|       13.791800809289521|        4.345361898817246|                                3908|                          128.41935484|                   10.701612903333334|                                        10.0|             5.0|            6.0|                 0.0|           4.0|               0.0|              0.0|                 0.0|              0.0|                          0.0|                         0.0|                          7.0|                          0.0|                         7.0|                         0.0|                               0.0|                                     0.0|           1|                                              10.701612903333334|               40.0|              36.0|                      5.0|                           2|                                              10.701612903333334|                                             40.0|                                           36.0|                                                5.0|             529.3|                                    529.3|                                       6.9903647937494835|                                      0.18892877820944548|                                        6.8014360155400375|                                       4.156433120607801|                                    13.791800809289521|                                        4.345361898817246|\n",
      "+-------+---------+------+--------------------+-----------+--------------------+----+-------+--------------+----------+--------------------+--------------------+-------+--------------------+-----------+--------------------+-------------+--------+-------------+---------+----------+-----------+-----------------+-----------------+---------------------+-------------------+------------------+-------------------+-------------------------+-------------------------+------------------------------------+--------------------------------------+-------------------------------------+--------------------------------------------+----------------+---------------+--------------------+-------------+------------------------+----------------+------------------------------------------------------+-----------------------------------------------------+----------------------------------------------+---------------------------------------------------+------------------+---------------------------------------------------+--------------------------------------------------------+-------------------------------------------------------+----------------------------------------------------------+----------------------------------------------------+-----------------------------------------------------------+--------------------------------------------------------+\n",
      "only showing top 2 rows"
     ]
    }
   ],
   "source": [
    "interaction_level_df.show(5)"
   ]
  },
  {
   "cell_type": "markdown",
   "id": "6cba9f37",
   "metadata": {
    "id": "6cba9f37"
   },
   "source": [
    "### Task 3 Validation Completed"
   ]
  },
  {
   "cell_type": "markdown",
   "id": "feed5d93",
   "metadata": {
    "id": "feed5d93"
   },
   "source": [
    "## <font color = blue >  Task 04: Convert the tags column from a string to an array of strings  </font>"
   ]
  },
  {
   "cell_type": "markdown",
   "id": "baffc679",
   "metadata": {
    "id": "baffc679"
   },
   "source": [
    "1) Currently, the tags column is a string column but holds an array of strings.\n",
    "\n",
    "2) Your task is to convert the tags columns from a string to an array of strings.\n",
    "\n",
    "3) Remove [ ] ' punctuation marks from the tags column. Split the tags column based on the comma delimiter"
   ]
  },
  {
   "cell_type": "markdown",
   "id": "934e4328",
   "metadata": {
    "id": "934e4328"
   },
   "source": [
    "### Solution to Task 04"
   ]
  },
  {
   "cell_type": "code",
   "execution_count": 28,
   "id": "66977b36",
   "metadata": {
    "colab": {
     "referenced_widgets": [
      "6fabc5afaba7499c8dfca43bab0bd2bf",
      ""
     ]
    },
    "execution": {
     "iopub.execute_input": "2023-01-07T18:16:50.183711Z",
     "iopub.status.busy": "2023-01-07T18:16:50.183423Z",
     "iopub.status.idle": "2023-01-07T18:16:50.476148Z",
     "shell.execute_reply": "2023-01-07T18:16:50.475189Z",
     "shell.execute_reply.started": "2023-01-07T18:16:50.183677Z"
    },
    "id": "66977b36",
    "outputId": "d613b05d-e531-436e-efdc-274e1269e0c8"
   },
   "outputs": [
    {
     "data": {
      "application/vnd.jupyter.widget-view+json": {
       "model_id": "0b738337df7243ef99aa782b215df06c",
       "version_major": 2,
       "version_minor": 0
      },
      "text/plain": [
       "VBox()"
      ]
     },
     "metadata": {},
     "output_type": "display_data"
    },
    {
     "data": {
      "application/vnd.jupyter.widget-view+json": {
       "model_id": "",
       "version_major": 2,
       "version_minor": 0
      },
      "text/plain": [
       "FloatProgress(value=0.0, bar_style='info', description='Progress:', layout=Layout(height='25px', width='50%'),…"
      ]
     },
     "metadata": {},
     "output_type": "display_data"
    }
   ],
   "source": [
    "# Task 04 Cell 1 out of 1\n",
    "interaction_level_df = (interaction_level_df\n",
    "                  .withColumn('tags', func.regexp_replace(\"tags\",\"[\\\\[\\\\]\\\\']\",\"\")\n",
    "                             )\n",
    "                  .withColumn('tags', func.split(\"tags\",\", \")\n",
    "                             )\n",
    "                 )"
   ]
  },
  {
   "cell_type": "code",
   "execution_count": 29,
   "id": "6e4005ab",
   "metadata": {
    "colab": {
     "referenced_widgets": [
      "e418e91de40a4bd493c45a4f078f76e9",
      ""
     ]
    },
    "execution": {
     "iopub.execute_input": "2023-01-07T18:16:56.058343Z",
     "iopub.status.busy": "2023-01-07T18:16:56.058063Z",
     "iopub.status.idle": "2023-01-07T18:16:56.176576Z",
     "shell.execute_reply": "2023-01-07T18:16:56.175683Z",
     "shell.execute_reply.started": "2023-01-07T18:16:56.058311Z"
    },
    "id": "6e4005ab",
    "outputId": "56971199-93fa-4899-90a8-d904eab57e40"
   },
   "outputs": [
    {
     "data": {
      "application/vnd.jupyter.widget-view+json": {
       "model_id": "6d12acd1dd6549f3af5548e819e069bb",
       "version_major": 2,
       "version_minor": 0
      },
      "text/plain": [
       "VBox()"
      ]
     },
     "metadata": {},
     "output_type": "display_data"
    },
    {
     "data": {
      "application/vnd.jupyter.widget-view+json": {
       "model_id": "",
       "version_major": 2,
       "version_minor": 0
      },
      "text/plain": [
       "FloatProgress(value=0.0, bar_style='info', description='Progress:', layout=Layout(height='25px', width='50%'),…"
      ]
     },
     "metadata": {},
     "output_type": "display_data"
    },
    {
     "name": "stdout",
     "output_type": "stream",
     "text": [
      "root\n",
      " |-- user_id: integer (nullable = true)\n",
      " |-- recipe_id: integer (nullable = true)\n",
      " |-- rating: integer (nullable = true)\n",
      " |-- review: string (nullable = true)\n",
      " |-- review_date: date (nullable = true)\n",
      " |-- name: string (nullable = true)\n",
      " |-- id: integer (nullable = true)\n",
      " |-- minutes: integer (nullable = true)\n",
      " |-- contributor_id: integer (nullable = true)\n",
      " |-- submitted: date (nullable = true)\n",
      " |-- tags: array (nullable = true)\n",
      " |    |-- element: string (containsNull = true)\n",
      " |-- nutrition: string (nullable = true)\n",
      " |-- n_steps: integer (nullable = true)\n",
      " |-- steps: string (nullable = true)\n",
      " |-- description: string (nullable = true)\n",
      " |-- ingredients: string (nullable = true)\n",
      " |-- n_ingredients: integer (nullable = true)\n",
      " |-- calories: float (nullable = true)\n",
      " |-- total_fat_PDV: float (nullable = true)\n",
      " |-- sugar_PDV: float (nullable = true)\n",
      " |-- sodium_PDV: float (nullable = true)\n",
      " |-- protein_PDV: float (nullable = true)\n",
      " |-- saturated_fat_PDV: float (nullable = true)\n",
      " |-- carbohydrates_PDV: float (nullable = true)\n",
      " |-- total_fat_per_100_cal: double (nullable = false)\n",
      " |-- sugar_per_100_cal: double (nullable = false)\n",
      " |-- sodium_per_100_cal: double (nullable = false)\n",
      " |-- protein_per_100_cal: double (nullable = false)\n",
      " |-- saturated_fat_per_100_cal: double (nullable = false)\n",
      " |-- carbohydrates_per_100_cal: double (nullable = false)"
     ]
    }
   ],
   "source": [
    "interaction_level_df.printSchema()"
   ]
  },
  {
   "cell_type": "code",
   "execution_count": 30,
   "id": "156c840f",
   "metadata": {
    "colab": {
     "referenced_widgets": [
      "ebd710d8fc394407b67c4b32274f961f",
      ""
     ]
    },
    "execution": {
     "iopub.execute_input": "2023-01-07T18:16:58.377555Z",
     "iopub.status.busy": "2023-01-07T18:16:58.377287Z",
     "iopub.status.idle": "2023-01-07T18:17:25.869668Z",
     "shell.execute_reply": "2023-01-07T18:17:25.868705Z",
     "shell.execute_reply.started": "2023-01-07T18:16:58.377523Z"
    },
    "id": "156c840f",
    "outputId": "55b21bb2-9aea-41d4-8643-a7827189cd0c"
   },
   "outputs": [
    {
     "data": {
      "application/vnd.jupyter.widget-view+json": {
       "model_id": "d4f8a02abcf742d1a687c3cce8e8a7ec",
       "version_major": 2,
       "version_minor": 0
      },
      "text/plain": [
       "VBox()"
      ]
     },
     "metadata": {},
     "output_type": "display_data"
    },
    {
     "data": {
      "application/vnd.jupyter.widget-view+json": {
       "model_id": "",
       "version_major": 2,
       "version_minor": 0
      },
      "text/plain": [
       "FloatProgress(value=0.0, bar_style='info', description='Progress:', layout=Layout(height='25px', width='50%'),…"
      ]
     },
     "metadata": {},
     "output_type": "display_data"
    }
   ],
   "source": [
    "# Code check cell\n",
    "# Do not edit cells with assert commands\n",
    "# If an error is shown after running this cell, please recheck your code.  \n",
    "\n",
    "assert interaction_level_df.schema[\"tags\"].dataType == ArrayType(StringType(), True), \"You have not split the string into an array.\"\n",
    "assert interaction_level_df.collect()[2][5] == ['time-to-make','course', 'preparation', 'main-dish', 'chili', 'crock-pot-slow-cooker', 'dietary', 'equipment', '4-hours-or-less'], \"Recheck your string cleaning and splitting operations.\""
   ]
  },
  {
   "cell_type": "code",
   "execution_count": 31,
   "id": "03c0a9c3",
   "metadata": {
    "colab": {
     "referenced_widgets": [
      "40d10d16c00d4187bc6433b9893ede8c",
      ""
     ]
    },
    "execution": {
     "iopub.execute_input": "2023-01-07T18:17:27.876680Z",
     "iopub.status.busy": "2023
