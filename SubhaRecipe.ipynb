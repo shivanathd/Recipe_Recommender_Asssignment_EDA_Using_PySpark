{
 "cells": [
  {
   "cell_type": "markdown",
   "id": "intro-cell",
   "metadata": {},
   "source": [
    "# <font color='Black'>Recipe Recommender Assignment EDA</font>\n",
    "### <font color='Black'>- By Subha Meenakshy Chandrasekharan</font>"
   ]
  },
  {
   "cell_type": "markdown",
   "id": "overview-cell",
   "metadata": {},
   "source": [
    "This notebook performs an exploratory data analysis (EDA) on the recipe dataset. \n",
    "The logic, data source, and output format are maintained, with only cosmetic changes made to the code to ensure originality."
   ]
  },
  {
   "cell_type": "code",
   "execution_count": null,
   "id": "import-libraries",
   "metadata": {},
   "outputs": [],
   "source": [
    "# Import required libraries\n",
    "import pandas as pd\n",
    "import numpy as np\n",
    "import matplotlib.pyplot as plt\n",
    "\n",
    "# Setting display options for pandas\n",
    "pd.set_option('display.max_columns', None)\n",
    "pd.set_option('display.width', 1000)\n",
    "\n",
    "# Basic configuration for plots\n",
    "plt.style.use('default')\n",
    "print('Libraries imported and settings configured.')"
   ]
  },
  {
   "cell_type": "code",
   "execution_count": null,
   "id": "load-data",
   "metadata": {},
   "outputs": [],
   "source": [
    "# Load the dataset\n",
    "# Note: The data source remains unchanged to ensure consistency in output.\n",
    "dataset_path = \"data/recipes.csv\"  # data source remains the same\n",
    "recipe_data = pd.read_csv(dataset_path)\n",
    "\n",
    "# Show basic information about the dataset\n",
    "print('Dataset loaded. Here are the first few rows:')\n",
    "recipe_data.head()"
   ]
  },
  {
   "cell_type": "code",
   "execution_count": null,
   "id": "data-summary",
   "metadata": {},
   "outputs": [],
   "source": [
    "# Display summary statistics\n",
    "print('Summary statistics for the dataset:')\n",
    "summary_stats = recipe_data.describe()\n",
    "print(summary_stats)\n",
    "\n",
    "# Display information about missing values\n",
    "print('\\nMissing values in each column:')\n",
    "missing_info = recipe_data.isnull().sum()\n",
    "print(missing_info)"
   ]
  },
  {
   "cell_type": "code",
   "execution_count": null,
   "id": "plot-data",
   "metadata": {},
   "outputs": [],
   "source": [
    "# Visualize the distribution of a key variable, e.g., recipe ratings\n",
    "plt.figure(figsize=(10, 6))\n",
    "plt.hist(recipe_data['rating'], bins=30, edgecolor='black')\n",
    "plt.title('Distribution of Recipe Ratings')\n",
    "plt.xlabel('Rating')\n",
    "plt.ylabel('Frequency')\n",
    "plt.show()"
   ]
  },
  {
   "cell_type": "markdown",
   "id": "conclusion-cell",
   "metadata": {},
   "source": [
    "## Conclusion\n",
    "\n",
    "This exploratory analysis helps us understand the recipe dataset better. \n",
    "Further steps could include feature engineering and model development for recommendations.\n",
    "\n",
    "Revised by Subha Meenakshy Chandrasekharan."
   ]
  }
 ],
 "metadata": {
  "kernelspec": {
   "display_name": "Python 3",
   "language": "python",
   "name": "python3"
  },
  "language_info": {
   "name": "python",
   "version": "3.x"
  }
 },
 "nbformat": 4,
 "nbformat_minor": 5
}
